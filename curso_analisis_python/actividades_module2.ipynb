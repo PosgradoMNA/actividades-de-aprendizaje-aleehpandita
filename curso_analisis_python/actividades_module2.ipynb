{
  "cells": [
    {
      "cell_type": "markdown",
      "metadata": {
        "colab_type": "text",
        "id": "view-in-github"
      },
      "source": [
        "<a href=\"https://colab.research.google.com/github/tec03/ParaAssignment01-/blob/main/assignment01.ipynb\" target=\"_parent\"><img src=\"https://colab.research.google.com/assets/colab-badge.svg\" alt=\"Open In Colab\"/></a>"
      ]
    },
    {
      "cell_type": "markdown",
      "metadata": {},
      "source": [
        "## Pre-Processing Data in Python\n",
        "\n",
        "#### Data Pre-processing\n",
        "-   It is the process of converting or mapping data from one “raw” form into another format to make it ready for further analysis.\n",
        "-   Data cleaning\n",
        "-   Data wrangling\n",
        "\n",
        "*   Identify and handle missing values\n",
        "*   Data Formatting\n",
        "*   Data Normalization (centering / scaling ) (Normalization is a way to bring all data into a similar range, for more useful comparison)\n",
        "*   Data binning\n",
        "*   Turning categorical values to numerics values\n",
        "\n"
      ]
    },
    {
      "cell_type": "markdown",
      "metadata": {},
      "source": [
        "#### Dealing with missing values in Python\n",
        "\n",
        "#### What to do when you have missing values in your data?\n",
        "\n",
        "*   Missing values: when no data value is stored for a variable(feature) in an observation\n",
        "*   Could be represented as ?, N/A, 0 or just a blank cell \n",
        "\n",
        "#### How to deal with missing data?\n",
        "\n",
        "*   Each situation is diff and should be judged diff\n",
        "*   The first is to check if the person or group that collected the data can go back and find what the actual value should be\n",
        "*   If you don’t have a lot of observations with missing data, usually dropping the particular entry is the best\n",
        "*   If you’re removing data, you want to look to do something that has the least amountof impact\n",
        "*   Replace missing values is better, no data is wasted\n",
        "*   A replacement technique is to replace missing values by the average value of the entire variable but what if the values cannot be averaged, as with categorical variables?: we can use the most common\n",
        "*   Replace it by frequency\n",
        "*   Replace it based on other functions\n",
        "\n",
        "\n",
        "\n",
        "\n",
        "\n",
        "\n"
      ]
    },
    {
      "cell_type": "markdown",
      "metadata": {},
      "source": [
        "To remove data that contains missing values, pandas library has a built-in method called ‘dropna’, you can choose to drop rows or columns that contain missing values, like NaN"
      ]
    },
    {
      "cell_type": "code",
      "execution_count": null,
      "metadata": {},
      "outputs": [],
      "source": [
        "dataframes.dropna()"
      ]
    },
    {
      "cell_type": "markdown",
      "metadata": {},
      "source": [
        "So you’ll need to specify “axis=0” to drop the rows, or “axis=1” to drop the columns that contain the missing values\n",
        "Setting the argument “inplace” to “true” allows the modification to be done on the dataset directly."
      ]
    },
    {
      "cell_type": "code",
      "execution_count": null,
      "metadata": {},
      "outputs": [],
      "source": [
        "df.dropna(subset=[\"price\"], axis=0)\n",
        "##this line of code does not change the dataframe, but is a good way to make sure that you are performing the correct operation"
      ]
    },
    {
      "cell_type": "markdown",
      "metadata": {},
      "source": [
        "To modify the dataframe, you have to set the parameter \"inplace\" equal to true."
      ]
    },
    {
      "cell_type": "code",
      "execution_count": null,
      "metadata": {},
      "outputs": [],
      "source": [
        "dataframe.replace(missing_value,new_value)\n",
        "##To replace missing values like NaNs with actual values, pandas library has a built in method called ‘replace’, which can be used to fill in the missing values with the newly calculated values\n",
        "\n",
        "mean = df[\"normalized-losses\"].mean()\n",
        "df[\"normalized-losses\"].replace(np.nan,mean)"
      ]
    },
    {
      "cell_type": "markdown",
      "metadata": {},
      "source": [
        "### Data Formatting in Python\n",
        "\n",
        "-   Data is usually collected from different places, by different people, which may be stored in different formats.\n",
        "-   Data formatting means bringing data into a common standard of expression that allows users to make meaningful comparisons."
      ]
    }
  ],
  "metadata": {
    "colab": {
      "include_colab_link": true,
      "name": "assignment01.ipynb",
      "provenance": []
    },
    "kernelspec": {
      "display_name": "Python 3",
      "name": "python3"
    },
    "language_info": {
      "name": "python"
    }
  },
  "nbformat": 4,
  "nbformat_minor": 0
}
