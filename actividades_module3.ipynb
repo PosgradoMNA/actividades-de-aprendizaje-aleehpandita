{
  "cells": [
    {
      "cell_type": "markdown",
      "metadata": {
        "colab_type": "text",
        "id": "view-in-github"
      },
      "source": [
        "<a href=\"https://colab.research.google.com/github/tec03/ParaAssignment01-/blob/main/assignment01.ipynb\" target=\"_parent\"><img src=\"https://colab.research.google.com/assets/colab-badge.svg\" alt=\"Open In Colab\"/></a>"
      ]
    },
    {
      "cell_type": "markdown",
      "metadata": {},
      "source": [
        "## Conditions and Branching\n",
        "1. Comparison operations compare some value or operand, then, based on some condition they produce a Boolean.\n",
        "2. We can compare strings too."
      ]
    },
    {
      "cell_type": "code",
      "execution_count": 8,
      "metadata": {},
      "outputs": [
        {
          "data": {
            "text/plain": [
              "True"
            ]
          },
          "execution_count": 8,
          "metadata": {},
          "output_type": "execute_result"
        }
      ],
      "source": [
        "a=6\n",
        "a==7\n",
        "a==6\n",
        "i=8\n",
        "i>5\n",
        "i>=5\n",
        "i!=6\n",
        "\"Ac/dc\"==\"Michael jakson\"\n",
        "\n",
        "\"Ac/dc\"!=\"Michael jakson\""
      ]
    },
    {
      "cell_type": "markdown",
      "metadata": {},
      "source": [
        "## Branching\n",
        "1. Allows us to run different statements for a different input.\n",
        "2. If the statement is true, you can enter the room, and your program can run some predefined task.\n",
        "3. If the statement is false, your program will skip the task.\n",
        "4. Brackets are no necessary\n",
        "\n",
        "### Else Statement\n",
        "1. The “else statement” will run a different block of code, if the same condition is false.\n",
        "2. We simply append the statement else.\n",
        "3. We then add the expression we would like to execute with an indent.\n"
      ]
    },
    {
      "cell_type": "code",
      "execution_count": 14,
      "metadata": {},
      "outputs": [
        {
          "name": "stdout",
          "output_type": "stream",
          "text": [
            "you can enter\n",
            "move on\n"
          ]
        }
      ],
      "source": [
        "age=19\n",
        "if(age>18):\n",
        "    print(\"you can enter\")\n",
        "else:\n",
        "    print(\"go see Meat Loaf\")\n",
        "print(\"move on\")"
      ]
    },
    {
      "cell_type": "markdown",
      "metadata": {},
      "source": [
        "### Elif Statement\n",
        "1. The elif statement, short for “else if,” allows us to check additional conditions,if the proceeding condition is false.\n",
        "2. If the condition is true, the alternate expressions will be run."
      ]
    },
    {
      "cell_type": "code",
      "execution_count": 41,
      "metadata": {},
      "outputs": [
        {
          "name": "stdout",
          "output_type": "stream",
          "text": [
            "go see Pink Floyd\n",
            "move on\n"
          ]
        }
      ],
      "source": [
        "age=18\n",
        "\n",
        "if(age>18):\n",
        "\n",
        "    print(\"you can enter\")\n",
        "\n",
        "elif(age==18):\n",
        "\n",
        "    print(\"go see Pink Floyd\")\n",
        "\n",
        "else:\n",
        "\n",
        "    print(\"go see Meat Loaf\")\n",
        "\n",
        "print(\"move on\")"
      ]
    },
    {
      "cell_type": "markdown",
      "metadata": {},
      "source": [
        "## Logic operators\n",
        "1. Logic operations take Boolean values and produce different Boolean values.\n",
        "2. The first operation is the not operator. If the input is true, the result is a false.\n",
        "3. The “or” operator takes in the two values, and produces a new Boolean value.\n",
        "4. The \"and\" operator takes in the two values, and produces a new Boolean value.\n",
        "5. We see the \"and\" operator only produces a true if all the Boolean values are true."
      ]
    },
    {
      "cell_type": "code",
      "execution_count": 43,
      "metadata": {},
      "outputs": [
        {
          "name": "stdout",
          "output_type": "stream",
          "text": [
            "The album was made in the 70s or 90s\n",
            "The album was made in the 80s\n"
          ]
        }
      ],
      "source": [
        "album_year=1990\n",
        "\n",
        "if(album_year<1980) or (album_year>1989):\n",
        "    print(\"The album was made in the 70s or 90s\")\n",
        "else:\n",
        "    print(\"The album was made in the 1980\")\n",
        "\n",
        "\n",
        "album_year=1983\n",
        "\n",
        "if(album_year>1979) and (album_year<1990):\n",
        "    print(\"The album was made in the 80s\")\n"
      ]
    },
    {
      "cell_type": "markdown",
      "metadata": {},
      "source": [
        "Branching allows us to run different statements for different inputs."
      ]
    },
    {
      "cell_type": "markdown",
      "metadata": {},
      "source": [
        "## Loops\n",
        "\n",
        "We will focus on lists, but many of the procedures can be used on tuples. Loops perform a task over and over.\n",
        "\n",
        "We can also iterate through a list or tuple directly in Python, we do not even need to use indexes\n",
        "\n",
        "“While loops” are similar to “for loops”, but instead of executing a statement a set number of times, a while loop will only run if a condition is met."
      ]
    },
    {
      "cell_type": "code",
      "execution_count": 6,
      "metadata": {},
      "outputs": [
        {
          "name": "stdout",
          "output_type": "stream",
          "text": [
            "3\n",
            "4\n",
            "5\n",
            "1\n",
            "2\n",
            "['orange', 'orange']\n"
          ]
        }
      ],
      "source": [
        "A=[3,4,5]\n",
        "\n",
        "for a in A:\n",
        "\n",
        "    print(a)\n",
        "\n",
        "x=3\n",
        "\n",
        "y=1\n",
        "\n",
        "while(y!=x):\n",
        "\n",
        "    print(y)\n",
        "\n",
        "    y=y+1\n",
        "\n",
        "squares=[\"red\",\"yellow\",\"green\"]\n",
        "\n",
        "for square in squares:\n",
        "    square\n",
        "\n",
        "for i, square in enumerate(squares):\n",
        "    square\n",
        "    i\n",
        "\n",
        "squares=['orange','orange','purple','blue']\n",
        "\n",
        "Newsquares = []\n",
        "\n",
        "i=0\n",
        "\n",
        "while(squares[i]=='orange'):\n",
        "    Newsquares.append(squares[i])\n",
        "\n",
        "    i=i+1\n",
        "\n",
        "print(Newsquares)"
      ]
    },
    {
      "cell_type": "markdown",
      "metadata": {},
      "source": [
        "# Functions\n",
        "\n",
        "-   Functions take some input then produce some output or change.\n",
        "-   The function is just a piece of code you can reuse.\n",
        "-   You can implement your own function, but in many cases, you use other people’s functions.\n",
        "Python has many built-in functions; you simply have to know the task those functions perform. \n",
        "## The function len \n",
        "Takes in an input of type sequence, such as a string or list, or type collection, such as a dictionary or set, and returns the length of that sequence or collection. \n",
        "\n",
        "## The function sum\n",
        "The function sum takes in an iterable like a tuple or list and returns the total of all the elements.\n",
        "\n",
        "## Sorted vs Sort\n",
        "\n",
        "There are two ways to sort a list. The first is using the function sorted. We can also use the list method sort. Methods are similar to functions.\n",
        "-   The function sorted Returns a new sorted list or tuple.\n",
        "-   If we use the method sort, the list album ratings will change and no new list will be\n",
        "created.\n"
      ]
    },
    {
      "cell_type": "code",
      "execution_count": 10,
      "metadata": {},
      "outputs": [
        {
          "name": "stdout",
          "output_type": "stream",
          "text": [
            "8\n",
            "70.0\n",
            "[7.0, 7.0, 8.5, 9.0, 9.5, 9.5, 9.5, 10.0]\n",
            "[7.0, 7.0, 8.5, 9.0, 9.5, 9.5, 9.5, 10.0]\n"
          ]
        }
      ],
      "source": [
        "album_ratings = [10.0,8.5,9.5,7.0,7.0,9.5,9.0,9.5]\n",
        "\n",
        "L=len(album_ratings)\n",
        "\n",
        "print(L)\n",
        "\n",
        "S=sum(album_ratings)\n",
        "\n",
        "print(S)\n",
        "\n",
        "sorted_album=sorted(album_ratings);\n",
        "\n",
        "print(sorted_album)\n",
        "\n",
        "album_ratings.sort();\n",
        "\n",
        "print(album_ratings)\n"
      ]
    },
    {
      "cell_type": "markdown",
      "metadata": {},
      "source": [
        "## Making Functions\n",
        "\n",
        "To define a function, we start with the keyword def. The name of the function should be descriptive of what it does\n",
        "\n",
        "1. It's customary to document the function on the first few lines; this tells anyone who uses the function what it does. This documentation is surrounded in triple quotes. You can use the help command on the function to display the documentation as follows. This will printout the function name and the\n",
        "documentation."
      ]
    },
    {
      "cell_type": "code",
      "execution_count": 15,
      "metadata": {},
      "outputs": [
        {
          "name": "stdout",
          "output_type": "stream",
          "text": [
            "11\n",
            "Help on function add2 in module __main__:\n",
            "\n",
            "add2(a)\n",
            "    add 1 to a\n",
            "\n"
          ]
        }
      ],
      "source": [
        "def add1(a):\n",
        "    b=a+1\n",
        "\n",
        "    return b\n",
        "\n",
        "add1(5)\n",
        "\n",
        "c=add1(10)\n",
        "\n",
        "print(c)\n",
        "\n",
        "def add2(a):\n",
        "    \"\"\"add 1 to a \"\"\"\n",
        "    b=a+1\n",
        "    return b\n",
        "\n",
        "help(add2)"
      ]
    },
    {
      "cell_type": "markdown",
      "metadata": {},
      "source": [
        "## Multiple Parameters\n",
        "1. A function can have multiple parameters\n",
        "In many cases a function does not have a return statement. \n",
        "2. In these cases, Python will return the special “None” object. Practically speaking, if your function has no return statement, you can treat it as if the function returns nothing at all.\n",
        "3. Python doesn’t allow a function to have an empty body, so we can use the keyword pass, which doesn’t do anything, but satisfies the requirement of a non-empty body.\n",
        "4. We can use Loops in functions"
      ]
    },
    {
      "cell_type": "code",
      "execution_count": 24,
      "metadata": {},
      "outputs": [
        {
          "name": "stdout",
          "output_type": "stream",
          "text": [
            "Michael jacksonMichael jackson\n",
            "Michael Jackson\n",
            "None\n",
            "Album 0 Rating is 7.0\n",
            "Album 1 Rating is 7.0\n",
            "Album 2 Rating is 8.5\n",
            "Album 3 Rating is 9.0\n",
            "Album 4 Rating is 9.5\n",
            "Album 5 Rating is 9.5\n",
            "Album 6 Rating is 9.5\n",
            "Album 7 Rating is 10.0\n"
          ]
        }
      ],
      "source": [
        "def Mult(a,b):\n",
        "    c=a*b\n",
        "    return c\n",
        "result = Mult(2,\"Michael jackson\")\n",
        "print(result)\n",
        "\n",
        "def MJ():\n",
        "    print('Michael Jackson')\n",
        "\n",
        "MJ()\n",
        "\n",
        "def NoWork():\n",
        "    pass\n",
        "print(NoWork())\n",
        "\n",
        "def printStuff(Stuff):\n",
        "    for i,s in enumerate(Stuff):\n",
        "        print(\"Album\",i,\"Rating is\",s)\n",
        "\n",
        "printStuff(album_ratings);"
      ]
    },
    {
      "cell_type": "markdown",
      "metadata": {},
      "source": [
        "## Collection arguments\n",
        "Consider the following function; the function has an asterisk on the parameter names.\n",
        "-   When we call the function, three parameters are packed into the tuple names.\n",
        "-   We then iterate through the loop; the values are printed out accordingly.\n",
        "-   If we call the same function with only two parameters as inputs, the variable names only contain two elements. \n",
        "-   The result is only two values are printed out. The scope of a variable is the part of the program where that variable is accessible. \n",
        "-   Variables that are defined outside of any function are said to be within the global scope, meaning they can be accessed anywhere\n",
        "after they are defined"
      ]
    },
    {
      "cell_type": "code",
      "execution_count": 25,
      "metadata": {},
      "outputs": [
        {
          "name": "stdout",
          "output_type": "stream",
          "text": [
            "Michael jackson\n",
            "Acdc\n",
            "Pink Floyd\n"
          ]
        }
      ],
      "source": [
        "def ArtistNames(*names):\n",
        "    for name in names:\n",
        "        print(name)\n",
        "\n",
        "ArtistNames(\"Michael jackson\",\"Acdc\",\"Pink Floyd\")\n"
      ]
    },
    {
      "cell_type": "markdown",
      "metadata": {},
      "source": [
        "The scope of a variable is the part of the program where that variable is accessible. Variables that are defined outside of any function are said to be within the global scope, meaning they can be accessed anywhere after they are defined.\n",
        "-    Variables inside the global scope can have\n",
        "the same name as variables in the local scope with no conflict."
      ]
    },
    {
      "cell_type": "code",
      "execution_count": 32,
      "metadata": {},
      "outputs": [
        {
          "name": "stdout",
          "output_type": "stream",
          "text": [
            "1982\n",
            "2017\n"
          ]
        }
      ],
      "source": [
        "\n",
        "def AddDC(y):\n",
        "    x=x+\"DC\"\n",
        "    print(x)\n",
        "    return(x)\n",
        "\n",
        "\n",
        "x=\"AC\"\n",
        "#z = AddDC(x)\n",
        "\n",
        "def Thriller():\n",
        "    Date=1982\n",
        "    return Date\n",
        "\n",
        "Date = 2017\n",
        "\n",
        "print(Thriller())\n",
        "\n",
        "print(Date)"
      ]
    },
    {
      "cell_type": "markdown",
      "metadata": {},
      "source": [
        "## Scope: Variables"
      ]
    },
    {
      "cell_type": "code",
      "execution_count": 34,
      "metadata": {},
      "outputs": [
        {
          "name": "stdout",
          "output_type": "stream",
          "text": [
            "9\n",
            "9\n"
          ]
        }
      ],
      "source": [
        "def ACDC(y):\n",
        "    print(Rating)\n",
        "    return(Rating+y)\n",
        "\n",
        "Rating=9\n",
        "\n",
        "Z=ACDC(1)\n",
        "\n",
        "print(Rating)"
      ]
    },
    {
      "cell_type": "code",
      "execution_count": 38,
      "metadata": {},
      "outputs": [
        {
          "name": "stdout",
          "output_type": "stream",
          "text": [
            "11\n"
          ]
        }
      ],
      "source": [
        "a=1\n",
        "\n",
        "def add(b):\n",
        "\n",
        "    return a+b\n",
        "\n",
        "c=add(10)\n",
        "print(c)\n"
      ]
    },
    {
      "cell_type": "markdown",
      "metadata": {},
      "source": [
        "## Objects and Clases\n",
        "\n",
        "-   Python has lots of data types:\n",
        "    1. Int\n",
        "    2. Float\n",
        "    3. String\n",
        "    4. List\n",
        "    5. Dictionary\n",
        "    6. Bool\n",
        "Each is an **Object**\n",
        "every object has a type, an internal data representation (a blueprint), a set of procedures for interacting with the object(methods)\n",
        "an **object** is an **intance** of a particular type\n",
        "\n",
        "\n",
        "-   Every time we create an Integer, we are creating an instance of type integer, or we are creating an integer object.\n",
        "-   Every time we create a list, we are creating an instance of type list, or we are creating a list object\n",
        "\n",
        "- You can find the type of a object by using the command type()\n",
        "\n"
      ]
    },
    {
      "cell_type": "markdown",
      "metadata": {},
      "source": [
        "## Methods\n",
        "\n",
        "-   A class or type's methods are functions that every instance of that class or type provides \n",
        "-   Its how you interact with the data in a object\n",
        "-   Sorting is an example of a method that interacts with the data in the object"
      ]
    },
    {
      "cell_type": "code",
      "execution_count": 40,
      "metadata": {},
      "outputs": [
        {
          "name": "stdout",
          "output_type": "stream",
          "text": [
            "[10, 10, 9, 8, 6, 6, 5, 2, 0]\n"
          ]
        }
      ],
      "source": [
        "Ratings=[10,0,6,5,10,8,9,6,2]\n",
        "Ratings.sort()\n",
        "Ratings.reverse()\n",
        "\n",
        "print(Ratings)\n"
      ]
    },
    {
      "cell_type": "markdown",
      "metadata": {},
      "source": [
        "You can create your own type or class in Python. We then create an instances or instances of that class or objects.\n",
        "\n",
        "The function init is a constructor. its a special method or constructor used to initialize data attributes. \n",
        "\n",
        "The self parameter refers to the newly created instance of the class.\n"
      ]
    },
    {
      "cell_type": "code",
      "execution_count": 42,
      "metadata": {},
      "outputs": [
        {
          "data": {
            "text/plain": [
              "'blue'"
            ]
          },
          "execution_count": 42,
          "metadata": {},
          "output_type": "execute_result"
        }
      ],
      "source": [
        "class Circle(object):\n",
        "    def __init__(self,radius,color):\n",
        "        self.radius = radius;\n",
        "        self.color = color;\n",
        "    def add_radius(self,r):\n",
        "        self.radius=self.radius + r\n",
        "        return(self.radius)\n",
        "\n",
        "class Rectangule(object):\n",
        "    def __init__(self,color, height, width):\n",
        "        self.height = height;\n",
        "        self.width = width;\n",
        "        self.color = color;\n",
        "\n",
        "\n",
        "C1 = Circle(10,\"red\")\n",
        "C1.radius\n",
        "C1.color=\"blue\"\n",
        "C1.color\n",
        "\n"
      ]
    },
    {
      "cell_type": "markdown",
      "metadata": {},
      "source": [
        "## Methods\n",
        "\n",
        "We have seen how data attributes consist of the data defining the objects. Methods are functions that interact and change the data attributes, changing or using the data attributes of the object.\n",
        "\n",
        "-   The method is a function that requires the self as well as other parameters."
      ]
    },
    {
      "cell_type": "code",
      "execution_count": 46,
      "metadata": {},
      "outputs": [
        {
          "name": "stdout",
          "output_type": "stream",
          "text": [
            "Hi\n",
            "Mike\n"
          ]
        }
      ],
      "source": [
        "x=1\n",
        "\n",
        "if(x!=1):\n",
        "\n",
        "    print('Hello')\n",
        "\n",
        "else:\n",
        "\n",
        "    print('Hi')\n",
        "\n",
        "print('Mike')"
      ]
    },
    {
      "cell_type": "code",
      "execution_count": 47,
      "metadata": {},
      "outputs": [
        {
          "name": "stdout",
          "output_type": "stream",
          "text": [
            "11\n",
            "22\n",
            "33\n"
          ]
        }
      ],
      "source": [
        "A = ['1','2','3']\n",
        "\n",
        "for a in A:\n",
        "\n",
        "    print(2*a)"
      ]
    },
    {
      "cell_type": "code",
      "execution_count": 49,
      "metadata": {},
      "outputs": [],
      "source": [
        "def Delta(x):\n",
        "\n",
        "    if x==0:\n",
        "\n",
        "        y=1;\n",
        "\n",
        "    else:\n",
        "\n",
        "        y=0;\n",
        "\n",
        "    return(y)"
      ]
    }
  ],
  "metadata": {
    "colab": {
      "include_colab_link": true,
      "name": "assignment01.ipynb",
      "provenance": []
    },
    "kernelspec": {
      "display_name": "Python 3.9.12 64-bit",
      "language": "python",
      "name": "python3"
    },
    "language_info": {
      "codemirror_mode": {
        "name": "ipython",
        "version": 3
      },
      "file_extension": ".py",
      "mimetype": "text/x-python",
      "name": "python",
      "nbconvert_exporter": "python",
      "pygments_lexer": "ipython3",
      "version": "3.9.12"
    },
    "vscode": {
      "interpreter": {
        "hash": "aee8b7b246df8f9039afb4144a1f6fd8d2ca17a180786b69acc140d282b71a49"
      }
    }
  },
  "nbformat": 4,
  "nbformat_minor": 0
}
