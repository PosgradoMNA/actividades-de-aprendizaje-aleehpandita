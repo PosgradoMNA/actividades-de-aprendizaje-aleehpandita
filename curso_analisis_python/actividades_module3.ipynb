{
  "cells": [
    {
      "cell_type": "markdown",
      "metadata": {
        "colab_type": "text",
        "id": "view-in-github"
      },
      "source": [
        "<a href=\"https://colab.research.google.com/github/tec03/ParaAssignment01-/blob/main/assignment01.ipynb\" target=\"_parent\"><img src=\"https://colab.research.google.com/assets/colab-badge.svg\" alt=\"Open In Colab\"/></a>"
      ]
    },
    {
      "cell_type": "markdown",
      "metadata": {},
      "source": [
        "### Exploratory Data Analysis\n",
        "\n"
      ]
    },
    {
      "cell_type": "markdown",
      "metadata": {},
      "source": [
        "-   Preliminary step in data analysis to: \n",
        "\n",
        "1.  Summarize main characteristics of the data\n",
        "2.  Gain better understanding of the dataset\n",
        "3.  Uncover relationships between different variables\n",
        "4.  Extract important variables for the problem we are trying to solve."
      ]
    },
    {
      "cell_type": "markdown",
      "metadata": {},
      "source": [
        "#### Descriptive Statistics\n",
        "\n",
        "1.  Describe basic features of data\n",
        "2.  Giving short summaries about the sample and measures of the data\n",
        "\n",
        "-   Using the describe function on pandas"
      ]
    },
    {
      "cell_type": "code",
      "execution_count": null,
      "metadata": {},
      "outputs": [],
      "source": [
        "df.describe()"
      ]
    },
    {
      "cell_type": "markdown",
      "metadata": {},
      "source": [
        "-   This function will give you a clearer idea of the distribution of your different variables. You could have also categorical variables"
      ]
    },
    {
      "cell_type": "code",
      "execution_count": null,
      "metadata": {},
      "outputs": [],
      "source": [
        "value_counts()"
      ]
    },
    {
      "cell_type": "markdown",
      "metadata": {},
      "source": [
        "-   summarize the categorical data is by using the value_counts()"
      ]
    },
    {
      "cell_type": "markdown",
      "metadata": {},
      "source": [
        "-   Box Plots\n",
        "1.  The main features that the boxplot shows are the median of the data, which represents where\n",
        "the middle datapoint is. \n",
        "2.  The Upper Quartile shows where the 75th percentile is\n",
        "3.  The Lower Quartile shows where the 25th percentile is \n",
        "4.  The data between the Upper  and Lower Quartile represents the Interquartile Range."
      ]
    },
    {
      "cell_type": "code",
      "execution_count": null,
      "metadata": {},
      "outputs": [],
      "source": [
        "sns.boxplot(x=\"drive-wheels\", y=\"price\", data=\"df\")"
      ]
    },
    {
      "cell_type": "markdown",
      "metadata": {},
      "source": [
        "#### Scatter Plot\n",
        "\n",
        "1.  Each observation represented as a point\n",
        "2.  Scatter plot show the relationship between two variables\n",
        "-   Predictor/independent variables on x-axis\n",
        "-   Target/dependent variables on y-axis\n"
      ]
    },
    {
      "cell_type": "code",
      "execution_count": null,
      "metadata": {},
      "outputs": [],
      "source": [
        "y=df[\"engine-size\"]\n",
        "x=df[\"price\"]\n",
        "plt.scatter(x,y)\n",
        "\n",
        "plt.title(\"Scatterplot of Engine Size vs Price\")\n",
        "plt.xlabel(\"Engine Size\")\n",
        "\n",
        "plt.xlabel(\"Price\")"
      ]
    },
    {
      "cell_type": "markdown",
      "metadata": {},
      "source": [
        "#### GroupBy in Python"
      ]
    },
    {
      "cell_type": "markdown",
      "metadata": {},
      "source": [
        "-   The group by method is used on categorical variables, groups the data into subsets according to the different categories of that variable.\n",
        "-   You can group by a single variable or you can group by multiple variables by passing\n",
        "in multiple variable names."
      ]
    },
    {
      "cell_type": "code",
      "execution_count": null,
      "metadata": {},
      "outputs": [],
      "source": [
        "df_test = df[['drive-wheels','body-style','price']]\n",
        "df_grp = df_test.groupby(['drive-wheels','body-style']). as_index=False).mean()\n",
        "df_grp"
      ]
    },
    {
      "cell_type": "markdown",
      "metadata": {},
      "source": [
        "#### Pivot() Method\n",
        "\n",
        "-   One variable displayed along the columns and the other variable displayed along the rows"
      ]
    },
    {
      "cell_type": "code",
      "execution_count": null,
      "metadata": {},
      "outputs": [],
      "source": [
        "df_pivot = df_grp.pivot(index = 'drive-wheels',columns='body-style')"
      ]
    },
    {
      "cell_type": "markdown",
      "metadata": {},
      "source": [
        "#### Heatmap\n",
        "-   Plot target variable over multiple variables"
      ]
    },
    {
      "cell_type": "code",
      "execution_count": null,
      "metadata": {},
      "outputs": [],
      "source": [
        "plt.pcolor(df_pivot, cmap='RdBu')\n",
        "plt.colorbar()\n",
        "plt.show()"
      ]
    },
    {
      "cell_type": "markdown",
      "metadata": {},
      "source": [
        "#### Analysis of Variance ANOVA"
      ]
    },
    {
      "cell_type": "markdown",
      "metadata": {},
      "source": [
        "-   If we want to analyze a categorical variable and see the correlation among different\n",
        "categories.\n",
        "1.  Statistical comparison of groups\n",
        "2.  ANalysis Of Variance (ANOVA)\n",
        "3.  Why do we perform ANOVA?\n",
        "-   Finding correlation between different groups of a categorical variable"
      ]
    },
    {
      "cell_type": "markdown",
      "metadata": {},
      "source": [
        "#### Correlation \n",
        "\n",
        "#####   What is?\n",
        "1.  Measures to what extent different variables are interdependent\n",
        "2.  Correlation doesn't imply causation"
      ]
    },
    {
      "cell_type": "markdown",
      "metadata": {},
      "source": [
        "####    Pearson Correlation\n",
        "-   Measure the strength of the correlation between two features\n",
        "1.  Correlation coefficient\n",
        "2.  P-value"
      ]
    }
  ],
  "metadata": {
    "colab": {
      "include_colab_link": true,
      "name": "assignment01.ipynb",
      "provenance": []
    },
    "kernelspec": {
      "display_name": "Python 3.9.12 64-bit",
      "language": "python",
      "name": "python3"
    },
    "language_info": {
      "codemirror_mode": {
        "name": "ipython",
        "version": 3
      },
      "file_extension": ".py",
      "mimetype": "text/x-python",
      "name": "python",
      "nbconvert_exporter": "python",
      "pygments_lexer": "ipython3",
      "version": "3.9.12"
    },
    "vscode": {
      "interpreter": {
        "hash": "aee8b7b246df8f9039afb4144a1f6fd8d2ca17a180786b69acc140d282b71a49"
      }
    }
  },
  "nbformat": 4,
  "nbformat_minor": 0
}
