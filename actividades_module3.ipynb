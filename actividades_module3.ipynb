{
  "cells": [
    {
      "cell_type": "markdown",
      "metadata": {
        "colab_type": "text",
        "id": "view-in-github"
      },
      "source": [
        "<a href=\"https://colab.research.google.com/github/tec03/ParaAssignment01-/blob/main/assignment01.ipynb\" target=\"_parent\"><img src=\"https://colab.research.google.com/assets/colab-badge.svg\" alt=\"Open In Colab\"/></a>"
      ]
    },
    {
      "cell_type": "markdown",
      "metadata": {},
      "source": [
        "## Conditions and Branching\n",
        "1. Comparison operations compare some value or operand, then, based on some condition they produce a Boolean.\n",
        "2. We can compare strings too."
      ]
    },
    {
      "cell_type": "code",
      "execution_count": 8,
      "metadata": {},
      "outputs": [
        {
          "data": {
            "text/plain": [
              "True"
            ]
          },
          "execution_count": 8,
          "metadata": {},
          "output_type": "execute_result"
        }
      ],
      "source": [
        "a=6\n",
        "a==7\n",
        "a==6\n",
        "i=8\n",
        "i>5\n",
        "i>=5\n",
        "i!=6\n",
        "\"Ac/dc\"==\"Michael jakson\"\n",
        "\n",
        "\"Ac/dc\"!=\"Michael jakson\""
      ]
    },
    {
      "cell_type": "markdown",
      "metadata": {},
      "source": [
        "## Branching\n",
        "1. Allows us to run different statements for a different input.\n",
        "2. If the statement is true, you can enter the room, and your program can run some predefined task.\n",
        "3. If the statement is false, your program will skip the task.\n",
        "4. Brackets are no necessary\n",
        "\n",
        "### Else Statement\n",
        "1. The “else statement” will run a different block of code, if the same condition is false.\n",
        "2. We simply append the statement else.\n",
        "3. We then add the expression we would like to execute with an indent.\n"
      ]
    },
    {
      "cell_type": "code",
      "execution_count": 14,
      "metadata": {},
      "outputs": [
        {
          "name": "stdout",
          "output_type": "stream",
          "text": [
            "you can enter\n",
            "move on\n"
          ]
        }
      ],
      "source": [
        "age=19\n",
        "if(age>18):\n",
        "    print(\"you can enter\")\n",
        "else:\n",
        "    print(\"go see Meat Loaf\")\n",
        "print(\"move on\")"
      ]
    },
    {
      "cell_type": "markdown",
      "metadata": {},
      "source": [
        "### Elif Statement\n",
        "1. The elif statement, short for “else if,” allows us to check additional conditions,if the proceeding condition is false.\n",
        "2. If the condition is true, the alternate expressions will be run."
      ]
    },
    {
      "cell_type": "code",
      "execution_count": 41,
      "metadata": {},
      "outputs": [
        {
          "name": "stdout",
          "output_type": "stream",
          "text": [
            "go see Pink Floyd\n",
            "move on\n"
          ]
        }
      ],
      "source": [
        "age=18\n",
        "\n",
        "if(age>18):\n",
        "\n",
        "    print(\"you can enter\")\n",
        "\n",
        "elif(age==18):\n",
        "\n",
        "    print(\"go see Pink Floyd\")\n",
        "\n",
        "else:\n",
        "\n",
        "    print(\"go see Meat Loaf\")\n",
        "\n",
        "print(\"move on\")"
      ]
    },
    {
      "cell_type": "markdown",
      "metadata": {},
      "source": [
        "## Logic operators\n",
        "1. Logic operations take Boolean values and produce different Boolean values.\n",
        "2. The first operation is the not operator. If the input is true, the result is a false.\n",
        "3. The “or” operator takes in the two values, and produces a new Boolean value.\n",
        "4. The \"and\" operator takes in the two values, and produces a new Boolean value.\n",
        "5. We see the \"and\" operator only produces a true if all the Boolean values are true."
      ]
    },
    {
      "cell_type": "code",
      "execution_count": 43,
      "metadata": {},
      "outputs": [
        {
          "name": "stdout",
          "output_type": "stream",
          "text": [
            "The album was made in the 70s or 90s\n",
            "The album was made in the 80s\n"
          ]
        }
      ],
      "source": [
        "album_year=1990\n",
        "\n",
        "if(album_year<1980) or (album_year>1989):\n",
        "    print(\"The album was made in the 70s or 90s\")\n",
        "else:\n",
        "    print(\"The album was made in the 1980\")\n",
        "\n",
        "\n",
        "album_year=1983\n",
        "\n",
        "if(album_year>1979) and (album_year<1990):\n",
        "    print(\"The album was made in the 80s\")\n"
      ]
    },
    {
      "cell_type": "markdown",
      "metadata": {},
      "source": [
        "Branching allows us to run different statements for different inputs."
      ]
    },
    {
      "cell_type": "markdown",
      "metadata": {},
      "source": [
        "## Loops"
      ]
    },
    {
      "cell_type": "code",
      "execution_count": 47,
      "metadata": {},
      "outputs": [
        {
          "name": "stdout",
          "output_type": "stream",
          "text": [
            "3\n",
            "4\n",
            "5\n",
            "1\n",
            "2\n"
          ]
        }
      ],
      "source": [
        "A=[3,4,5]\n",
        "\n",
        "for a in A:\n",
        "\n",
        "    print(a)\n",
        "\n",
        "x=3\n",
        "\n",
        "y=1\n",
        "\n",
        "while(y!=x):\n",
        "\n",
        "    print(y)\n",
        "\n",
        "    y=y+1"
      ]
    }
  ],
  "metadata": {
    "colab": {
      "include_colab_link": true,
      "name": "assignment01.ipynb",
      "provenance": []
    },
    "kernelspec": {
      "display_name": "Python 3.9.12 64-bit",
      "language": "python",
      "name": "python3"
    },
    "language_info": {
      "codemirror_mode": {
        "name": "ipython",
        "version": 3
      },
      "file_extension": ".py",
      "mimetype": "text/x-python",
      "name": "python",
      "nbconvert_exporter": "python",
      "pygments_lexer": "ipython3",
      "version": "3.9.12"
    },
    "vscode": {
      "interpreter": {
        "hash": "aee8b7b246df8f9039afb4144a1f6fd8d2ca17a180786b69acc140d282b71a49"
      }
    }
  },
  "nbformat": 4,
  "nbformat_minor": 0
}
