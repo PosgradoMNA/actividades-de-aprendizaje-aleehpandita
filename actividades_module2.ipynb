{
  "cells": [
    {
      "cell_type": "markdown",
      "metadata": {
        "colab_type": "text",
        "id": "view-in-github"
      },
      "source": [
        "<a href=\"https://colab.research.google.com/github/tec03/ParaAssignment01-/blob/main/assignment01.ipynb\" target=\"_parent\"><img src=\"https://colab.research.google.com/assets/colab-badge.svg\" alt=\"Open In Colab\"/></a>"
      ]
    },
    {
      "cell_type": "markdown",
      "metadata": {},
      "source": [
        "## Module 2\n",
        "\n",
        "### Lists and Tuples\n",
        "\n",
        "1. Tuples are an ordered sequence.\n",
        "2. Tuples are expressed as comma-separated elements within parentheses.\n",
        "3. These are values inside the parentheses. \n",
        "4. There are different types, they can all be contained in a tuple, but the type of the variable is tuple\n",
        "5. Each element of a tuple can be accessed via an index.\n",
        "6. We can concatenate or combine tuples by adding them.\n",
        "7. We could also slice tuples.\n",
        "8. Example first 3 elements _print(tuple2[0:3])_\n",
        "9. Example last 3 elements _print(tuple2[3:5])_\n"
      ]
    },
    {
      "cell_type": "code",
      "execution_count": 6,
      "metadata": {},
      "outputs": [
        {
          "name": "stdout",
          "output_type": "stream",
          "text": [
            "disco\n",
            "disco\n",
            "('disco', 10, 1.2, 'hard rock', 10)\n",
            "('disco', 10, 1.2)\n",
            "('hard rock', 10)\n"
          ]
        }
      ],
      "source": [
        "Ratings=(10,9,8,7,6,5,4,3,2,1)\n",
        "tuple1 = ('disco',10,1.2)\n",
        "type(tuple1)\n",
        "print(tuple1[0])\n",
        "print(tuple1[-3])\n",
        "tuple2 = tuple1 + (\"hard rock\",10)\n",
        "print(tuple2)\n",
        "print(tuple2[0:3])\n",
        "print(tuple2[3:5])"
      ]
    },
    {
      "cell_type": "markdown",
      "metadata": {},
      "source": [
        "### Tuples\n",
        "1. Are immutable, which means we can't change them, if we want to change the element at index 2 for example it we can't\n",
        "2. As a consequence of immutability, if we would like to manipulate a tuple, we must create a new tulple instead\n",
        "\n",
        "## Sorted Function\n"
      ]
    },
    {
      "cell_type": "code",
      "execution_count": 7,
      "metadata": {},
      "outputs": [
        {
          "name": "stdout",
          "output_type": "stream",
          "text": [
            "[1, 2, 3, 4, 5, 6, 7, 8, 9, 10]\n"
          ]
        }
      ],
      "source": [
        "Ratings=(10,9,8,7,6,5,4,3,2,1)\n",
        "RatingsSorted = sorted(Ratings)\n",
        "print(RatingsSorted)"
      ]
    },
    {
      "cell_type": "markdown",
      "metadata": {},
      "source": [
        "### Tuples: Nesting\n",
        "1. A tuple can contain other tuples as well as other complex data types; this is called nesting.\n",
        "2. We can access these elements using the standard indexing methods.\n",
        "3. If we select an index with a tuple, the same index convention applies. As such, we can then access values in the tuple."
      ]
    },
    {
      "cell_type": "code",
      "execution_count": 11,
      "metadata": {},
      "outputs": [
        {
          "name": "stdout",
          "output_type": "stream",
          "text": [
            "('pop', 'rock')\n",
            "rock\n",
            "r\n"
          ]
        }
      ],
      "source": [
        "NT=(1,2,(\"pop\",\"rock\"),(3,4),(\"disco\",(1,2)))\n",
        "print(NT[2])\n",
        "print(NT[2][1])\n",
        "print(NT[2][1][0])"
      ]
    },
    {
      "cell_type": "markdown",
      "metadata": {},
      "source": [
        "### Lists\n",
        "1. Lists are also an ordered sequence.\n",
        "2. A list is represented with square brackets. []\n",
        "3. Lists are like tuples, one key difference is they are mutable.\n",
        "4. Can contain strings, floats, integers\n",
        "5. We can nest other lists\n",
        "6. We can concatenate or combine lists by adding them.\n",
        "7. We can change them, are mutable\n",
        "8. For example, we apply the method extends by adding a \"dot\" followed by the name of the method, then parenthesis.\n",
        "9. Another similar method is append. If we apply append instead of extended we add one element to the list. If we look at the index, there is only one more element.\n",
        "10. we can change the first element as follows.\n",
        "11. We can delete an element of a list using the \"del\" command; we simply indicate the list\n",
        "12. We can convert a string to a list using split.\n",
        "13. We can use the split function to separate strings on a specific character, known as a delimiter."
      ]
    },
    {
      "cell_type": "code",
      "execution_count": 28,
      "metadata": {},
      "outputs": [
        {
          "name": "stdout",
          "output_type": "stream",
          "text": [
            "['Michael Jackson', 10.1, 1982, [1, 2], ('A', 1)]\n",
            "i\n",
            "[[1, 2], ('A', 1)]\n",
            "['Michael Jackson', 10.1, 1982, [1, 2], ('A', 1), 'hola', 1, 2]\n",
            "['Michael Jackson', 10.1, 1982, [1, 2], ('A', 1), 'hola', 1, 2, 'pop', 10]\n",
            "['Michael Jackson', 10.1, 1982, [1, 2], ('A', 1), 'hola', 1, 2, 'pop', 10, ['pop', 10]]\n",
            "['hard rock', 10, 1.2]\n",
            "[10, 1.2]\n",
            "['b', 'c']\n"
          ]
        },
        {
          "data": {
            "text/plain": [
              "['A', 'B', 'C', 'D']"
            ]
          },
          "execution_count": 28,
          "metadata": {},
          "output_type": "execute_result"
        }
      ],
      "source": [
        "List=[\"Michael Jackson\", 10.1,1982,[1,2],('A',1)]\n",
        "print(List)\n",
        "print(List[0][1])\n",
        "print(List[3:5])\n",
        "L=List+['hola',1,2]\n",
        "print(L)\n",
        "L.extend([\"pop\",10])\n",
        "print(L)\n",
        "L.append([\"pop\",10])\n",
        "print(L)\n",
        "A=[\"disco\",10,1.2]\n",
        "A[0]=\"hard rock\"\n",
        "print(A)\n",
        "del(A[0])\n",
        "print(A)\n",
        "\"hard rock\".split()\n",
        "B=[\"a\",\"b\",\"c\"]\n",
        "print(B[1:])\n",
        "A=(0,1,2,3)\n",
        "\"A,B,C,D\".split(\",\")\n"
      ]
    },
    {
      "cell_type": "markdown",
      "metadata": {},
      "source": [
        "### List Aliasing\n",
        "1. When we set one variable, B equal to A, both A and B are referencing the same list.\n",
        "2. Multiple names referring to the same object is known as aliasing.\n",
        "3. If we change the first element in “A” to “banana” we get a side effect; the value of B will change as a consequence."
      ]
    },
    {
      "cell_type": "code",
      "execution_count": 30,
      "metadata": {},
      "outputs": [
        {
          "name": "stdout",
          "output_type": "stream",
          "text": [
            "['hard rock', 10, 1.2]\n",
            "['holi', 10, 1.2]\n"
          ]
        }
      ],
      "source": [
        "A=[\"hard rock\",10,1.2]\n",
        "B=A\n",
        "print(B)\n",
        "A[0]= \"holi\"\n",
        "print(B)"
      ]
    },
    {
      "cell_type": "markdown",
      "metadata": {},
      "source": [
        "### List Clone\n",
        "1. Variable \"A\" references one list.\n",
        "2. Variable “B” references a new copy or clone of the original list."
      ]
    },
    {
      "cell_type": "code",
      "execution_count": 33,
      "metadata": {},
      "outputs": [
        {
          "name": "stdout",
          "output_type": "stream",
          "text": [
            "['hard rock', 10, 1.2]\n",
            "['hard rock', 10, 1.2]\n",
            "['holi', 10, 1.2]\n"
          ]
        }
      ],
      "source": [
        "A=[\"hard rock\",10,1.2]\n",
        "B=A[:]\n",
        "print(B)\n",
        "A[0]= \"holi\"\n",
        "print(B)\n",
        "print(A)"
      ]
    }
  ],
  "metadata": {
    "colab": {
      "include_colab_link": true,
      "name": "assignment01.ipynb",
      "provenance": []
    },
    "kernelspec": {
      "display_name": "Python 3.9.12 64-bit",
      "language": "python",
      "name": "python3"
    },
    "language_info": {
      "codemirror_mode": {
        "name": "ipython",
        "version": 3
      },
      "file_extension": ".py",
      "mimetype": "text/x-python",
      "name": "python",
      "nbconvert_exporter": "python",
      "pygments_lexer": "ipython3",
      "version": "3.9.12"
    },
    "vscode": {
      "interpreter": {
        "hash": "aee8b7b246df8f9039afb4144a1f6fd8d2ca17a180786b69acc140d282b71a49"
      }
    }
  },
  "nbformat": 4,
  "nbformat_minor": 0
}
