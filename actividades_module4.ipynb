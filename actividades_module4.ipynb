{
  "cells": [
    {
      "cell_type": "markdown",
      "metadata": {
        "colab_type": "text",
        "id": "view-in-github"
      },
      "source": [
        "<a href=\"https://colab.research.google.com/github/tec03/ParaAssignment01-/blob/main/assignment01.ipynb\" target=\"_parent\"><img src=\"https://colab.research.google.com/assets/colab-badge.svg\" alt=\"Open In Colab\"/></a>"
      ]
    },
    {
      "cell_type": "markdown",
      "metadata": {},
      "source": [
        "# Module 4\n",
        "\n",
        "## Reading Files with Open \n",
        "\n",
        "- We will use Python’s open function to get a file object.\n",
        "- We can apply a method to that object to read data from the file.\n",
        "\n",
        "1. The first argument is the file path. This is made up of the file name and the file directory.\n",
        "2. The second parameter is the mode; common values used include 'r' for reading,'w' for writing and 'a' for appending and will use ‘r’ for reading.\n",
        "3. Finally, we have the file object. We can now use the file object to obtain information about the file.\n",
        "4. We can use the data attribute name to get the name of the file.\n",
        "The result is a string that contains the name of the file \n",
        "5. We can see what mode the object is in using the data attribute mode.\n",
        "6. You should always close the file object using the method close.\n",
        "\n"
      ]
    },
    {
      "cell_type": "code",
      "execution_count": 25,
      "metadata": {},
      "outputs": [
        {
          "data": {
            "text/plain": [
              "'w'"
            ]
          },
          "execution_count": 25,
          "metadata": {},
          "output_type": "execute_result"
        }
      ],
      "source": [
        "File1 = open(\"/Users/pandita420/Documents/data/Example.txt\",\"w\")\n",
        "File1.name\n",
        "File1.mode\n",
        "File1.close()"
      ]
    },
    {
      "cell_type": "markdown",
      "metadata": {},
      "source": [
        "- Using a 'with' statement to open the file is better practice because it automatically closes the file.\n",
        "- The method read stores the values of the file in the variable file_stuff as a string.\n",
        "- You can print the file content.\n",
        "- You can check if the file content is closed, but you cannot read from it outside the indent.\n",
        "But you can print the file content outside the indent as well.\n",
        "- We can print the file content.\n",
        "- We can output every line as an element in a list using the method readlines."
      ]
    },
    {
      "cell_type": "code",
      "execution_count": 27,
      "metadata": {},
      "outputs": [
        {
          "name": "stdout",
          "output_type": "stream",
          "text": [
            "\n",
            "True\n",
            "\n",
            "[]\n"
          ]
        }
      ],
      "source": [
        "with open(\"/Users/pandita420/Documents/data/Example.txt\") as File1:\n",
        "    file_stuff=File1.read()\n",
        "\n",
        "    print(file_stuff)\n",
        "\n",
        "print(File1.closed)\n",
        "print(file_stuff)\n",
        "\n",
        "with open(\"/Users/pandita420/Documents/data/Example.txt\") as File1:\n",
        "    file_stuff=File1.readlines()\n",
        "    print(file_stuff)"
      ]
    },
    {
      "cell_type": "markdown",
      "metadata": {},
      "source": [
        "- The first line corresponds to the first element in the list.\n",
        "- The second line corresponds to the second element in the list, and so on.\n",
        "- We can use the method readline to read the first line of the file."
      ]
    },
    {
      "cell_type": "code",
      "execution_count": 29,
      "metadata": {},
      "outputs": [
        {
          "name": "stdout",
          "output_type": "stream",
          "text": [
            "Hola\n",
            "\n",
            "hola2\n"
          ]
        }
      ],
      "source": [
        "with open(\"/Users/pandita420/Documents/data/Example.txt\") as File1:\n",
        "    file_stuff=File1.readline()\n",
        "    print(file_stuff)\n",
        "    file_stuff=File1.readline()\n",
        "    print(file_stuff)"
      ]
    },
    {
      "cell_type": "markdown",
      "metadata": {},
      "source": [
        "-   We can use a loop to print out each line individually as follows.\n",
        "-   Let's represent every character in a string as a grid.\n",
        "-   We can specify the number of characters we would like to read from a string as an argument to the method readlines."
      ]
    },
    {
      "cell_type": "code",
      "execution_count": 30,
      "metadata": {},
      "outputs": [
        {
          "name": "stdout",
          "output_type": "stream",
          "text": [
            "Hola\n",
            "\n",
            "hola2\n"
          ]
        }
      ],
      "source": [
        "with open(\"/Users/pandita420/Documents/data/Example.txt\") as File1:\n",
        "    for line in File1:\n",
        "        print(line)"
      ]
    },
    {
      "cell_type": "markdown",
      "metadata": {},
      "source": [
        "Represent every character, we can specify the number of characters we would like to read from a string as an argument to the method readlines.:"
      ]
    },
    {
      "cell_type": "code",
      "execution_count": 31,
      "metadata": {},
      "outputs": [
        {
          "name": "stdout",
          "output_type": "stream",
          "text": [
            "['Hola\\n']\n"
          ]
        }
      ],
      "source": [
        "with open(\"/Users/pandita420/Documents/data/Example.txt\") as File1:\n",
        "    file_stuff=File1.readlines(4)\n",
        "    print(file_stuff)"
      ]
    },
    {
      "cell_type": "markdown",
      "metadata": {},
      "source": [
        "Each time we call the method, we will progress through the text."
      ]
    },
    {
      "cell_type": "code",
      "execution_count": 33,
      "metadata": {},
      "outputs": [
        {
          "name": "stdout",
          "output_type": "stream",
          "text": [
            "['Hola\\n']\n",
            "['Hola2\\n']\n",
            "['Hola3\\n', 'Hola4\\n']\n"
          ]
        }
      ],
      "source": [
        "with open(\"/Users/pandita420/Documents/data/Example.txt\") as File1:\n",
        "    file_stuff=File1.readlines(2)\n",
        "    print(file_stuff)\n",
        "    file_stuff=File1.readlines(5)\n",
        "    print(file_stuff)\n",
        "    file_stuff=File1.readlines(9)\n",
        "    print(file_stuff)"
      ]
    },
    {
      "cell_type": "markdown",
      "metadata": {},
      "source": [
        "## Writing Files with Open\n",
        "\n",
        "-   We can also write to files using the open function.\n",
        "-   We will use Python’s open function to get a file object, to create a text file, we can apply method write to write data to that file.\n",
        "-   As a result, text will be written to the file.\n",
        "-   We use the method write to write data into the file."
      ]
    },
    {
      "cell_type": "code",
      "execution_count": 35,
      "metadata": {},
      "outputs": [],
      "source": [
        "Lines = [\"This is a line A\\n\",\"This is a line B\\n\",\"This is a line C\\n\"]\n",
        "\n",
        "with open(\"/Users/pandita420/Documents/data/Example.txt\",\"w\") as File1:\n",
        "    for line in Lines:\n",
        "            File1.write(line)"
      ]
    },
    {
      "cell_type": "markdown",
      "metadata": {},
      "source": [
        "We can set the mode to appended using a lower case \"a\".\n",
        "This will not create a new file, but just use the existing file."
      ]
    },
    {
      "cell_type": "code",
      "execution_count": 37,
      "metadata": {},
      "outputs": [],
      "source": [
        "\n",
        "with open(\"/Users/pandita420/Documents/data/Example.txt\",\"a\") as File1:\n",
        "    File1.write(\"This is line C\")"
      ]
    },
    {
      "cell_type": "markdown",
      "metadata": {},
      "source": [
        "1.  We can copy one file to a new file as follows: First, we read the file example 1 and interact with it via the file object \"read file“.\n",
        "2. Then we create a new file example 3 and use the file object \"write file\" to interact with it.\n",
        "3. The “for loop” takes a line from the file object read file and stores it in the file example 3 using the file object write file.\n",
        "4.  The first iteration copies the first line.\n",
        "5.  The second iteration copies the second line till the end of the file is reached, then\n",
        "both files are closed"
      ]
    },
    {
      "cell_type": "code",
      "execution_count": 39,
      "metadata": {},
      "outputs": [],
      "source": [
        "\n",
        "with open(\"/Users/pandita420/Documents/data/Example.txt\",\"r\") as readfile:\n",
        "\n",
        "    with open(\"/Users/pandita420/Documents/data/Example3.txt\",\"w\") as writefile:\n",
        "\n",
        "        for line in readfile:\n",
        "            writefile.write(line)"
      ]
    },
    {
      "cell_type": "markdown",
      "metadata": {},
      "source": [
        "## Loading Data with Pandas\n",
        "\n",
        "#### Dependencies or libraries are pre-written code to help solve problems\n",
        "\n",
        "-   We can import the library or a dependency like pandas using the following command.\n",
        "-   We start with the import command followed by the name of the library.\n",
        "-   We now have access to a large number of pre-built classes and functions.\n",
        "    1. Let's go over the process to go from a csv file to a data frame.\n",
        "    2. This variable stores the path of the csv. It is used as an argument to the read_csv function.\n",
        "    3. The result is stored to the variable df; this is short for “dataframe.\"\n",
        "    4. Now that we have the data in a dataframe, we can work with it\n",
        "    5. We can create a new dataframe consisting of one column.\n",
        "    6. We just put the dataframe name, in this case \"df\" and the name of the column header \n",
        "    7. You can do the same thing for multiple columns."
      ]
    },
    {
      "cell_type": "code",
      "execution_count": 40,
      "metadata": {},
      "outputs": [
        {
          "ename": "ModuleNotFoundError",
          "evalue": "No module named 'pandas'",
          "output_type": "error",
          "traceback": [
            "\u001b[0;31m---------------------------------------------------------------------------\u001b[0m",
            "\u001b[0;31mModuleNotFoundError\u001b[0m                       Traceback (most recent call last)",
            "Cell \u001b[0;32mIn [40], line 1\u001b[0m\n\u001b[0;32m----> 1\u001b[0m \u001b[38;5;28;01mimport\u001b[39;00m \u001b[38;5;21;01mpandas\u001b[39;00m\n\u001b[1;32m      2\u001b[0m csv_path \u001b[38;5;241m=\u001b[39m \u001b[38;5;124m'\u001b[39m\u001b[38;5;124mfile1.csv\u001b[39m\u001b[38;5;124m'\u001b[39m\n\u001b[1;32m      4\u001b[0m df \u001b[38;5;241m=\u001b[39m pandas\u001b[38;5;241m.\u001b[39mread_csv(csv_path)\n",
            "\u001b[0;31mModuleNotFoundError\u001b[0m: No module named 'pandas'"
          ]
        }
      ],
      "source": [
        "import pandas as pd\n",
        "\n",
        "csv_path = 'file1.csv'\n",
        "\n",
        "df = pd.read_csv(csv_path)\n",
        "\n",
        "df.head()\n",
        "\n",
        "songs = {'Album':['Thrillde of the mooner','Back in black','the dark si','the bodyguard','bat out of hell'], 'Released':[1982,1980,1973,1992,1977], 'Length':['00:42:19','00:42:11','00:57:11','00:46:11','00:44:11']}\n",
        "\n",
        "songs_frame = pd.DataFrame(songs)\n",
        "\n"
      ]
    },
    {
      "cell_type": "markdown",
      "metadata": {},
      "source": [
        "## Working with and Saving Data with Pandas\n",
        "\n",
        "-   When we have a dataframe we can work with the data and save the results in other formats.\n",
        "-   We can select the specified columns in one line; we simply use the dataframe’s names\n",
        "-   We can save the new dataframe using the method to_csv.\n"
      ]
    }
  ],
  "metadata": {
    "colab": {
      "include_colab_link": true,
      "name": "assignment01.ipynb",
      "provenance": []
    },
    "kernelspec": {
      "display_name": "Python 3.9.12 64-bit",
      "language": "python",
      "name": "python3"
    },
    "language_info": {
      "codemirror_mode": {
        "name": "ipython",
        "version": 3
      },
      "file_extension": ".py",
      "mimetype": "text/x-python",
      "name": "python",
      "nbconvert_exporter": "python",
      "pygments_lexer": "ipython3",
      "version": "3.9.12"
    },
    "vscode": {
      "interpreter": {
        "hash": "aee8b7b246df8f9039afb4144a1f6fd8d2ca17a180786b69acc140d282b71a49"
      }
    }
  },
  "nbformat": 4,
  "nbformat_minor": 0
}
