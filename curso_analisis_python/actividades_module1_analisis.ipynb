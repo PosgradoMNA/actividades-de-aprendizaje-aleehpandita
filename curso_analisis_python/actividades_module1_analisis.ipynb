{
  "cells": [
    {
      "cell_type": "markdown",
      "metadata": {
        "colab_type": "text",
        "id": "view-in-github"
      },
      "source": [
        "<a href=\"https://colab.research.google.com/github/tec03/ParaAssignment01-/blob/main/assignment01.ipynb\" target=\"_parent\"><img src=\"https://colab.research.google.com/assets/colab-badge.svg\" alt=\"Open In Colab\"/></a>"
      ]
    },
    {
      "cell_type": "markdown",
      "metadata": {},
      "source": [
        "## Actividades Modulo 1 - Curso Data Analysis con Python "
      ]
    },
    {
      "cell_type": "markdown",
      "metadata": {},
      "source": [
        "## Data Analysis\n",
        "\n",
        "-   Data is everywhere\n",
        "-   Data analysis/data science helps us answer questions from data\n",
        "-   Discovering useful information\n",
        "-   Answering questions\n",
        "-   Predicting future or the unknown"
      ]
    },
    {
      "cell_type": "markdown",
      "metadata": {},
      "source": [
        "## Python Libraries\n",
        "\n",
        "-   A Python library is a collection of functions and methods that allow you to perform lots of actions without writing any code.\n",
        "1.  Scrientifics Computing Libraries\n",
        "    -   Pandas (Data structures & tools)\n",
        "    -   NumPy (Array & Matrices)\n",
        "    -   Scipy (Math problems)\n",
        "2.  Visualization Libraries\n",
        "    -   Matplotling (plots and graphs)\n",
        "    -   Seaborn (plots: heatmaps, time series, violin plots )\n",
        "3.  Algorithmic Libraries\n",
        "    -   Scikit-learn (Maching LearningL regression, classification,..)\n",
        "    -   Statsmodels (Explore data, estimate statistical models and perform statistical tests)"
      ]
    },
    {
      "cell_type": "markdown",
      "metadata": {},
      "source": [
        "## Importing and Exporting Data in Python"
      ]
    },
    {
      "cell_type": "markdown",
      "metadata": {},
      "source": [
        "-   Process of loading and reading data into Python from various resources \n",
        "-   Two important properties:\n",
        "    1.  Format (csv,json, xlsx, hdf..)\n",
        "    2.  File Path of dataset (Computer /Desktop/... Internet https:// ... )\n",
        "\n",
        "### Importing a CSV into Python"
      ]
    },
    {
      "cell_type": "markdown",
      "metadata": {},
      "source": [
        "In pandas, the “read_csv()” method can read in files with columns separated by commas into a pandas DataFrame."
      ]
    },
    {
      "cell_type": "code",
      "execution_count": null,
      "metadata": {},
      "outputs": [],
      "source": [
        "import pandas as pd\n",
        "\n",
        "url=\"https://raw.githubusercontent.com/PosgradoMNA/Actividades_Aprendizaje-/main/default%20of%20credit%20card%20clients.csv\"\n",
        "\n",
        "df = pd.read_csv(url)"
      ]
    },
    {
      "cell_type": "markdown",
      "metadata": {},
      "source": [
        "Note: read_csv” assumes that the data contains a header. if data doesnt have a header we specified header = None\n",
        "\n",
        "##  Printing the dataframe in Python\n",
        "\n",
        "-   df prints the entire dataframe (not recommended for large datasets)\n",
        "-   df.head(n) to show the first n rows of data frame\n",
        "-   df.tail(n) shows the bottom n rows of data frame\n",
        "\n",
        "##  Adding headers\n",
        "\n",
        "-   Replace default header (by df.columns = headers)"
      ]
    },
    {
      "cell_type": "code",
      "execution_count": null,
      "metadata": {},
      "outputs": [],
      "source": [
        "#it is just an example.. \n",
        "headers=['ID','X1']\n",
        "# df.columns equals headers to replace the default integer headers by the list\n",
        "df.columns = headers"
      ]
    },
    {
      "cell_type": "markdown",
      "metadata": {},
      "source": [
        "##  Exporting a Pandas dataframe to CSV\n",
        "\n",
        "-   Preserve progress anytime by saving modified dataset using "
      ]
    },
    {
      "cell_type": "code",
      "execution_count": null,
      "metadata": {},
      "outputs": [],
      "source": [
        "path=\"/Users/pandita420/Documents\"\n",
        "\n",
        "df.to_csv(path)"
      ]
    },
    {
      "cell_type": "markdown",
      "metadata": {},
      "source": [
        "##  Simple pandas methods\n",
        "\n",
        "-   Understand your data before you begin any analysis\n",
        "-   Should check\n",
        "    1.  Data types\n",
        "    2.  Data distribution\n",
        "-   Locate potential issues with the data\n",
        "\n",
        "-   The main types stored in Pandas objects are object, float,int, and datetime.\n",
        "-   The datatype names are little different from those in native Python.\n",
        "-   The object pandas type functions similar to \"string\" in Python, save for the change in name\n",
        "-   The \"datetime\" pandas type, is a very useful type for handling time series data.\n",
        "\n",
        "-   Pandas automatically assigns types based on the encoding it detects from the original data table.\n",
        "\n"
      ]
    },
    {
      "cell_type": "markdown",
      "metadata": {},
      "source": [
        "## Why check data types?\n",
        "1.  Potential info and type mismatch\n",
        "2.  Compatibility with python methods"
      ]
    },
    {
      "cell_type": "code",
      "execution_count": null,
      "metadata": {},
      "outputs": [],
      "source": [
        "df.dtypes"
      ]
    },
    {
      "cell_type": "markdown",
      "metadata": {},
      "source": [
        "##  dataframe.describe() \n",
        "\n",
        "Returns a statistical summary"
      ]
    },
    {
      "cell_type": "code",
      "execution_count": null,
      "metadata": {},
      "outputs": [],
      "source": [
        "df.describe()"
      ]
    },
    {
      "cell_type": "markdown",
      "metadata": {},
      "source": [
        "Describe method work for object-type columns as well."
      ]
    },
    {
      "cell_type": "markdown",
      "metadata": {},
      "source": [
        "##  dataframe.info()\n",
        "\n",
        "-   This function shows the top 30 rows and bottom 30 rows of the dataframe."
      ]
    }
  ],
  "metadata": {
    "colab": {
      "include_colab_link": true,
      "name": "assignment01.ipynb",
      "provenance": []
    },
    "kernelspec": {
      "display_name": "Python 3.9.12 64-bit",
      "language": "python",
      "name": "python3"
    },
    "language_info": {
      "name": "python",
      "version": "3.9.12"
    },
    "vscode": {
      "interpreter": {
        "hash": "aee8b7b246df8f9039afb4144a1f6fd8d2ca17a180786b69acc140d282b71a49"
      }
    }
  },
  "nbformat": 4,
  "nbformat_minor": 0
}
