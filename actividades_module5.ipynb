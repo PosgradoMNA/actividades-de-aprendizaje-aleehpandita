{
  "cells": [
    {
      "cell_type": "markdown",
      "metadata": {
        "colab_type": "text",
        "id": "view-in-github"
      },
      "source": [
        "<a href=\"https://colab.research.google.com/github/tec03/ParaAssignment01-/blob/main/assignment01.ipynb\" target=\"_parent\"><img src=\"https://colab.research.google.com/assets/colab-badge.svg\" alt=\"Open In Colab\"/></a>"
      ]
    },
    {
      "cell_type": "markdown",
      "metadata": {},
      "source": [
        "# Module 5\n",
        "## Alejandra Guadalupe Larrañaga Altamirano - A01794334\n",
        "### Numpy 1D Arrays\n",
        "\n",
        "Numpy is a library for scientific computing. It has many useful functions. There are many other advantages like speed an memory. Numpy is also the basis for pandas"
      ]
    },
    {
      "cell_type": "code",
      "execution_count": null,
      "metadata": {},
      "outputs": [],
      "source": [
        "a = [\"0\",1,\"two\",\"3\",4]\n"
      ]
    },
    {
      "cell_type": "markdown",
      "metadata": {},
      "source": [
        "A Python list is a container that allows you to store and access data. Each element is\n",
        "associated with an index. We can access each element using a square bracket, as follows.\n",
        "-   A \"numpy\" array or \"ndarray\" is similar to a list. It's usually fixed in size and each\n",
        "element is of the same type, in this case, integers. \n",
        "-   We can cast a list to a numpy arrayby first importing numpy. We then cast the list as follows. \n",
        "-   We can access the data via an index. As with a list, we can access each element with an integer and a square bracket."
      ]
    },
    {
      "cell_type": "code",
      "execution_count": 2,
      "metadata": {},
      "outputs": [
        {
          "data": {
            "text/plain": [
              "numpy.ndarray"
            ]
          },
          "execution_count": 2,
          "metadata": {},
          "output_type": "execute_result"
        }
      ],
      "source": [
        "import numpy as np\n",
        "\n",
        "a=np.array([0,1,2,3,4])\n",
        "type(a)"
      ]
    },
    {
      "cell_type": "code",
      "execution_count": 2,
      "metadata": {},
      "outputs": [
        {
          "data": {
            "text/plain": [
              "dtype('int64')"
            ]
          },
          "execution_count": 2,
          "metadata": {},
          "output_type": "execute_result"
        }
      ],
      "source": [
        "a.dtype"
      ]
    },
    {
      "cell_type": "code",
      "execution_count": 3,
      "metadata": {},
      "outputs": [
        {
          "data": {
            "text/plain": [
              "5"
            ]
          },
          "execution_count": 3,
          "metadata": {},
          "output_type": "execute_result"
        }
      ],
      "source": [
        "a.size"
      ]
    },
    {
      "cell_type": "code",
      "execution_count": 4,
      "metadata": {},
      "outputs": [
        {
          "data": {
            "text/plain": [
              "1"
            ]
          },
          "execution_count": 4,
          "metadata": {},
          "output_type": "execute_result"
        }
      ],
      "source": [
        "a.ndim"
      ]
    },
    {
      "cell_type": "markdown",
      "metadata": {},
      "source": [
        "-   The attribute \"ndim” represents the number of array dimensions or the rank of the array, in this case one.\n",
        "-   The attribute \"shape” is a tuple of integers indicating the size of the array in each dimension.\n",
        "-   We can create a numpy array with real numbers. When we check the type of the array, we get numpy.ndarray. "
      ]
    },
    {
      "cell_type": "code",
      "execution_count": 5,
      "metadata": {},
      "outputs": [
        {
          "data": {
            "text/plain": [
              "(5,)"
            ]
          },
          "execution_count": 5,
          "metadata": {},
          "output_type": "execute_result"
        }
      ],
      "source": [
        "a.shape"
      ]
    },
    {
      "cell_type": "markdown",
      "metadata": {},
      "source": [
        "### Indexing and Slicing methods"
      ]
    },
    {
      "cell_type": "code",
      "execution_count": 12,
      "metadata": {},
      "outputs": [
        {
          "data": {
            "text/plain": [
              "array([100,   1,   2,   3,   3])"
            ]
          },
          "execution_count": 12,
          "metadata": {},
          "output_type": "execute_result"
        }
      ],
      "source": [
        "c=np.array([20,1,2,3,4])\n",
        "\n",
        "c[0] = 100\n",
        "c[4]=3\n",
        "c"
      ]
    },
    {
      "cell_type": "markdown",
      "metadata": {},
      "source": [
        "Like lists and tuples, we can slice a numpy array. The elements of the array correspond\n",
        "to the following index. "
      ]
    },
    {
      "cell_type": "code",
      "execution_count": 14,
      "metadata": {},
      "outputs": [
        {
          "data": {
            "text/plain": [
              "array([1, 2, 3])"
            ]
          },
          "execution_count": 14,
          "metadata": {},
          "output_type": "execute_result"
        }
      ],
      "source": [
        "d=c[1:4]\n",
        "d"
      ]
    },
    {
      "cell_type": "markdown",
      "metadata": {},
      "source": [
        "We can assign the corresponding indexes to new values "
      ]
    },
    {
      "cell_type": "code",
      "execution_count": 15,
      "metadata": {},
      "outputs": [
        {
          "data": {
            "text/plain": [
              "array([100,   1,   2, 300, 400])"
            ]
          },
          "execution_count": 15,
          "metadata": {},
          "output_type": "execute_result"
        }
      ],
      "source": [
        "c[3:5] = 300,400\n",
        "c"
      ]
    },
    {
      "cell_type": "markdown",
      "metadata": {},
      "source": [
        "## Basic Operations\n",
        "### Vector Addition and Substraction\n",
        "\n",
        "Vector addition is a widely used operation in data science. \n",
        "-   Consider the vector 'u' with two elements,  consider the vector 'v' with two components. \n",
        "-   In vector addition, we create a new vector in this case 'z'. \n",
        "-   The first component of 'z' is the addition of the first component of vectors 'u' and 'v'. \n",
        "-   Similarly, the second component is the sum of the second components of 'u' and 'v'. \n",
        "-   This new vector 'z' is now a linear combination of the vector 'u' and 'v'. Representing vector addition with line segment or arrows is helpful."
      ]
    },
    {
      "cell_type": "code",
      "execution_count": 18,
      "metadata": {},
      "outputs": [
        {
          "data": {
            "text/plain": [
              "array([1, 1])"
            ]
          },
          "execution_count": 18,
          "metadata": {},
          "output_type": "execute_result"
        }
      ],
      "source": [
        "u = [1,0]\n",
        "v = [1,0]\n",
        "z=[]\n",
        "\n",
        "for n,m in zip(u,z):\n",
        "    z.append(n+m)\n",
        "\n",
        "u=np.array([1,0])\n",
        "v=np.array([0,1])\n",
        "\n",
        "z=u+v\n",
        "z"
      ]
    },
    {
      "cell_type": "markdown",
      "metadata": {},
      "source": [
        "We can also perform vector subtraction by changing the addition sign to a subtraction sign. It would require multiple lines to perform vector subtraction on two lists"
      ]
    },
    {
      "cell_type": "code",
      "execution_count": 19,
      "metadata": {},
      "outputs": [
        {
          "data": {
            "text/plain": [
              "array([ 1, -1])"
            ]
          },
          "execution_count": 19,
          "metadata": {},
          "output_type": "execute_result"
        }
      ],
      "source": [
        "z=u-v\n",
        "z"
      ]
    },
    {
      "cell_type": "markdown",
      "metadata": {},
      "source": [
        "## Array multiplication with a Scalar\n",
        "-   Vector multiplication with a Scalar is another commonly performed operation\n",
        "-   Vector multiplication with a scalar only requires one line of code using Numpy.\n",
        "-   It would require multiple lines to perform the same task as shown with python lists, the operation would also be much slower"
      ]
    },
    {
      "cell_type": "code",
      "execution_count": 20,
      "metadata": {},
      "outputs": [
        {
          "data": {
            "text/plain": [
              "array([2, 4])"
            ]
          },
          "execution_count": 20,
          "metadata": {},
          "output_type": "execute_result"
        }
      ],
      "source": [
        "y = np.array([1,2])\n",
        "z=2*y\n",
        "z"
      ]
    },
    {
      "cell_type": "code",
      "execution_count": 21,
      "metadata": {},
      "outputs": [
        {
          "data": {
            "text/plain": [
              "array([3, 4])"
            ]
          },
          "execution_count": 21,
          "metadata": {},
          "output_type": "execute_result"
        }
      ],
      "source": [
        "u = np.array([1,2])\n",
        "v = np.array([3,2])\n",
        "\n",
        "z=u*v\n",
        "z"
      ]
    },
    {
      "cell_type": "markdown",
      "metadata": {},
      "source": [
        "## Dot Product\n",
        "\n",
        "-   The dot product is a single number given by the following term and represents how similar two vectors are. We multiply the first component from 'v' and 'u'. \n",
        "-   We then multiply the second component and add the result together.\n",
        "-   The result is a number that represents how similar the two vectors are.\n",
        "-   Consider the array 'u'. The array contains the following elements. \n",
        "-   If we add a scalar value to the array, numpy will add that value to each element. This property is known as broadcasting."
      ]
    },
    {
      "cell_type": "code",
      "execution_count": 23,
      "metadata": {},
      "outputs": [
        {
          "data": {
            "text/plain": [
              "array([2, 3, 4, 0])"
            ]
          },
          "execution_count": 23,
          "metadata": {},
          "output_type": "execute_result"
        }
      ],
      "source": [
        "u=np.array([1,2,3,-1])\n",
        "z=u+1\n",
        "z"
      ]
    },
    {
      "cell_type": "markdown",
      "metadata": {},
      "source": [
        "## Universal Functions\n",
        "\n",
        "-   A universal function is a function that operates on ndarrays.\n",
        "-   We can apply a universal function to a Numpy array."
      ]
    },
    {
      "cell_type": "code",
      "execution_count": 4,
      "metadata": {},
      "outputs": [
        {
          "name": "stdout",
          "output_type": "stream",
          "text": [
            "105.0\n"
          ]
        },
        {
          "data": {
            "text/plain": [
              "5"
            ]
          },
          "execution_count": 4,
          "metadata": {},
          "output_type": "execute_result"
        }
      ],
      "source": [
        "a = np.array([90,115,110])\n",
        "mean_a=a.mean()\n",
        "print(mean_a)\n",
        "b = np.array([1,-2,3,4,5])\n",
        "max_b=b.max()\n",
        "max_b"
      ]
    },
    {
      "cell_type": "markdown",
      "metadata": {},
      "source": [
        "We can use numpy to create functions that map numpy arrays to new numpy arrays."
      ]
    },
    {
      "cell_type": "code",
      "execution_count": 30,
      "metadata": {},
      "outputs": [
        {
          "data": {
            "text/plain": [
              "array([0.0000000e+00, 1.0000000e+00, 1.2246468e-16])"
            ]
          },
          "execution_count": 30,
          "metadata": {},
          "output_type": "execute_result"
        }
      ],
      "source": [
        "np.pi\n",
        "x = np.array([0,np.pi/2,np.pi])\n",
        "y=np.sin(x)\n",
        "y"
      ]
    },
    {
      "cell_type": "markdown",
      "metadata": {},
      "source": [
        "-   A useful function for plotting mathematical functions is \"linespace\". Linespace returns\n",
        "evenly spaced numbers over a specified interval. \n",
        "-   We specify the starting point of the sequence.\n",
        "-   The ending point of the sequence. The parameter \"num\" indicates the Number of samples to generate"
      ]
    },
    {
      "cell_type": "code",
      "execution_count": 32,
      "metadata": {},
      "outputs": [
        {
          "data": {
            "text/plain": [
              "array([-2. , -1.5, -1. , -0.5,  0. ,  0.5,  1. ,  1.5,  2. ])"
            ]
          },
          "execution_count": 32,
          "metadata": {},
          "output_type": "execute_result"
        }
      ],
      "source": [
        "np.linspace(-2,2,num=5)\n",
        "np.linspace(-2,2,num=9)"
      ]
    },
    {
      "cell_type": "markdown",
      "metadata": {},
      "source": [
        "### Plotting Mathematical Functional\n",
        "\n",
        "-   We can use the function linespace to generate 100 evenly spaced samples from the interval 0 to 2 pi. \\\n",
        "-   We can use the Numpy function sine to map the array x to a new array y. \n",
        "-   We can import the library pyplot as plt to help us plot the function."
      ]
    },
    {
      "cell_type": "code",
      "execution_count": 5,
      "metadata": {},
      "outputs": [
        {
          "ename": "ModuleNotFoundError",
          "evalue": "No module named 'matplotlib'",
          "output_type": "error",
          "traceback": [
            "\u001b[0;31m---------------------------------------------------------------------------\u001b[0m",
            "\u001b[0;31mModuleNotFoundError\u001b[0m                       Traceback (most recent call last)",
            "Cell \u001b[0;32mIn [5], line 4\u001b[0m\n\u001b[1;32m      1\u001b[0m x \u001b[38;5;241m=\u001b[39m np\u001b[38;5;241m.\u001b[39mlinspace(\u001b[38;5;241m0\u001b[39m,\u001b[38;5;241m2\u001b[39m\u001b[38;5;241m*\u001b[39mnp\u001b[38;5;241m.\u001b[39mpi,\u001b[38;5;241m100\u001b[39m)\n\u001b[1;32m      2\u001b[0m y \u001b[38;5;241m=\u001b[39m np\u001b[38;5;241m.\u001b[39msin(x)\n\u001b[0;32m----> 4\u001b[0m \u001b[38;5;28;01mimport\u001b[39;00m \u001b[38;5;21;01mmatplotlib\u001b[39;00m\u001b[38;5;21;01m.\u001b[39;00m\u001b[38;5;21;01mpyplot\u001b[39;00m \u001b[38;5;28;01mas\u001b[39;00m \u001b[38;5;21;01mplt\u001b[39;00m\n\u001b[1;32m      5\u001b[0m get_ipython()\u001b[38;5;241m.\u001b[39mrun_line_magic(\u001b[38;5;124m'\u001b[39m\u001b[38;5;124mmatplotlib\u001b[39m\u001b[38;5;124m'\u001b[39m, \u001b[38;5;124m'\u001b[39m\u001b[38;5;124minline\u001b[39m\u001b[38;5;124m'\u001b[39m)\n\u001b[1;32m      6\u001b[0m plt\u001b[38;5;241m.\u001b[39mplot(x,y)\n",
            "\u001b[0;31mModuleNotFoundError\u001b[0m: No module named 'matplotlib'"
          ]
        }
      ],
      "source": [
        "x = np.linspace(0,2*np.pi,100)\n",
        "y = np.sin(x)\n",
        "\n",
        "import matplotlib.pyplot as plt\n",
        "%matplotlib inline\n",
        "plt.plot(x,y)"
      ]
    },
    {
      "cell_type": "code",
      "execution_count": 36,
      "metadata": {},
      "outputs": [
        {
          "data": {
            "text/plain": [
              "array([ 1, -1])"
            ]
          },
          "execution_count": 36,
          "metadata": {},
          "output_type": "execute_result"
        }
      ],
      "source": [
        "np.array([1,-1])*np.array([1,1])"
      ]
    },
    {
      "cell_type": "code",
      "execution_count": 37,
      "metadata": {},
      "outputs": [
        {
          "data": {
            "text/plain": [
              "0"
            ]
          },
          "execution_count": 37,
          "metadata": {},
          "output_type": "execute_result"
        }
      ],
      "source": [
        "np.dot(np.array([1,-1]),np.array([1,1]))"
      ]
    },
    {
      "cell_type": "code",
      "execution_count": 40,
      "metadata": {},
      "outputs": [
        {
          "data": {
            "text/plain": [
              "492"
            ]
          },
          "execution_count": 40,
          "metadata": {},
          "output_type": "execute_result"
        }
      ],
      "source": [
        "c = np.array([-10, 201, 43, 94, 502])\n",
        "\n",
        "max_value = c.max()\n",
        "min_value = c.min()\n",
        "sum = (max_value + min_value)\n",
        "\n",
        "sum"
      ]
    },
    {
      "cell_type": "code",
      "execution_count": 41,
      "metadata": {},
      "outputs": [
        {
          "data": {
            "text/plain": [
              "array([-10,  -1,   8,  17,  26,  35])"
            ]
          },
          "execution_count": 41,
          "metadata": {},
          "output_type": "execute_result"
        }
      ],
      "source": [
        "arr1 = np.array([10, 20, 30, 40, 50, 60])\n",
        "arr2 = np.array([20, 21, 22, 23, 24, 25])\n",
        "\n",
        "res = np.subtract(arr1, arr2)\n",
        "res"
      ]
    },
    {
      "cell_type": "code",
      "execution_count": 43,
      "metadata": {},
      "outputs": [],
      "source": [
        "arr1 = np.array([10, 20, 30, 40, 50, 60])\n",
        "arr2 = np.array([2, 1, 2, 3, 4, 5])\n",
        "\n",
        "res = np.multiply(arr1, arr2)"
      ]
    },
    {
      "cell_type": "code",
      "execution_count": 44,
      "metadata": {},
      "outputs": [
        {
          "data": {
            "text/plain": [
              "26"
            ]
          },
          "execution_count": 44,
          "metadata": {},
          "output_type": "execute_result"
        }
      ],
      "source": [
        "arr1 = np.array([3, 5])\n",
        "arr2 = np.array([2, 4])\n",
        "\n",
        "np.dot(arr1, arr2)"
      ]
    },
    {
      "cell_type": "code",
      "execution_count": 46,
      "metadata": {},
      "outputs": [
        {
          "data": {
            "text/plain": [
              "array([6, 7, 8, 4])"
            ]
          },
          "execution_count": 46,
          "metadata": {},
          "output_type": "execute_result"
        }
      ],
      "source": [
        "arr = np.array([1, 2, 3, -1]) \n",
        "\n",
        "new = arr + 5\n",
        "new"
      ]
    },
    {
      "cell_type": "code",
      "execution_count": 48,
      "metadata": {},
      "outputs": [
        {
          "data": {
            "text/plain": [
              "array([1, 0, 3, 0, 5])"
            ]
          },
          "execution_count": 48,
          "metadata": {},
          "output_type": "execute_result"
        }
      ],
      "source": [
        "arr1 = np.array([1, 2, 3, 4, 5])\n",
        "arr2 = np.array([1, 0, 1, 0, 1])\n",
        "arr1 * arr2 "
      ]
    },
    {
      "cell_type": "markdown",
      "metadata": {},
      "source": [
        "## Numpy 2D Arrays\n",
        "\n",
        "-   We can create Numpy arrays with more than one dimension.\n",
        "-   "
      ]
    },
    {
      "cell_type": "code",
      "execution_count": 50,
      "metadata": {},
      "outputs": [
        {
          "data": {
            "text/plain": [
              "array([[11, 12, 13],\n",
              "       [21, 22, 23],\n",
              "       [31, 32, 33]])"
            ]
          },
          "execution_count": 50,
          "metadata": {},
          "output_type": "execute_result"
        }
      ],
      "source": [
        "a = [[11,12,13],[21,22,23],[31,32,33]]\n",
        "\n",
        "A = np.array(a)\n",
        "\n",
        "A"
      ]
    },
    {
      "cell_type": "markdown",
      "metadata": {},
      "source": [
        "-  We can use the attribute \"ndim\" to obtain the number of axes or dimensions referred to as the rank.\n",
        "-  The term rank does not refer to the number of linearly independent columns like a matrix.\n",
        "-  It's useful to think of \"ndim\" as the number of nested lists.\n",
        "-  The first list represents the first dimension.\n",
        "-  This list contains another set of lists.\n",
        "-  This represents the second dimension or axes.\n",
        "-  The number of lists the list contains does not have to do with the dimension but the shape of the list.\n",
        "-  As with the 1d array, the attribute \"shape\" returns a tuple.\n",
        "-   The first element in the tuple corresponds to the number of nested lists contained in\n",
        "the original list or the number of rows in the rectangular representation, the second element corresponds to the size of each of the nested lists or the number of columns in the rectangular array 0"
      ]
    },
    {
      "cell_type": "code",
      "execution_count": 53,
      "metadata": {},
      "outputs": [
        {
          "data": {
            "text/plain": [
              "9"
            ]
          },
          "execution_count": 53,
          "metadata": {},
          "output_type": "execute_result"
        }
      ],
      "source": [
        "A.ndim\n",
        "A.shape\n",
        "A.size"
      ]
    },
    {
      "cell_type": "markdown",
      "metadata": {},
      "source": [
        "We can also use the attribute size to get the size of the array, we see there are three rows and three columns. Multiplying the number of columns and rows together we get the total number of elements"
      ]
    },
    {
      "cell_type": "markdown",
      "metadata": {},
      "source": [
        "-   We can use rectangular brackets to access the different elements of the array.\n",
        "-   The index in the first bracket corresponds to the different nested lists, each a different\n",
        "color.\n",
        "-   The second bracket corresponds to the index of a particular element within the nested list.\n",
        "-   Using the rectangular representation, the first index corresponds to the row index.\n",
        "-   The second index corresponds to the column index.\n",
        "-   We can also use a single bracket to access the elements as follows.\n",
        "-   Consider the following syntax:"
      ]
    },
    {
      "cell_type": "code",
      "execution_count": 60,
      "metadata": {},
      "outputs": [
        {
          "data": {
            "text/plain": [
              "11"
            ]
          },
          "execution_count": 60,
          "metadata": {},
          "output_type": "execute_result"
        }
      ],
      "source": [
        "A = [[11,12,13],[21,22,23],[31,32,33]]\n",
        "A[1][2]\n",
        "A[0][0]"
      ]
    },
    {
      "cell_type": "markdown",
      "metadata": {},
      "source": [
        "-   We can also use slicing in numpy arrays.\n",
        "-   The first index corresponds to the first row.\n",
        "-   The second index accesses the first two columns.\n"
      ]
    },
    {
      "cell_type": "markdown",
      "metadata": {},
      "source": [
        "-   To add two arrays in numpy we define the array in this case X.\n",
        "-   Then we define the second array Y.We add the arrays.\n",
        "-   The result is identical to matrix addition.\n",
        "-   Multiplying a Numpy array by a scalar is identical to multiplying a matrix by a scalar.\n",
        "-   Consider the matrix Y, if we multiply the matrix by the scalar 2 we simply multiply every element in the matrix by 2.\n",
        "-   The result is a new matrix of the same size where each element is multiplied by two.\n",
        "-   Consider the array y; we first define the array.\n",
        "-   We multiply the array by a scalar as follows and assign it to the variable Z.\n",
        "-   -   The result is a new array where each element is multiplied by two.\n",
        "-   Multiplication of two arrays corresponds to an element-wise product or Hadamard product."
      ]
    },
    {
      "cell_type": "code",
      "execution_count": 62,
      "metadata": {},
      "outputs": [
        {
          "data": {
            "text/plain": [
              "array([2, 3, 4, 0])"
            ]
          },
          "execution_count": 62,
          "metadata": {},
          "output_type": "execute_result"
        }
      ],
      "source": [
        "Y = np.array([[2,1],[1,2]])\n",
        "Z = 2*Y\n",
        "z"
      ]
    },
    {
      "cell_type": "markdown",
      "metadata": {},
      "source": [
        "Hadamard product corresponds to multiplying each of the elements in the same position"
      ]
    },
    {
      "cell_type": "code",
      "execution_count": 64,
      "metadata": {},
      "outputs": [
        {
          "data": {
            "text/plain": [
              "array([[2, 0],\n",
              "       [0, 2]])"
            ]
          },
          "execution_count": 64,
          "metadata": {},
          "output_type": "execute_result"
        }
      ],
      "source": [
        "X = np.array([[1,0],[0,1]])\n",
        "Y = np.array([[2,1],[1,2]])\n",
        "\n",
        "Z=X*Y\n",
        "Z"
      ]
    },
    {
      "cell_type": "markdown",
      "metadata": {},
      "source": [
        "We can also perform matrix multiplication with numpy arrays."
      ]
    },
    {
      "cell_type": "code",
      "execution_count": 6,
      "metadata": {},
      "outputs": [
        {
          "data": {
            "text/plain": [
              "array([[0, 2],\n",
              "       [0, 2]])"
            ]
          },
          "execution_count": 6,
          "metadata": {},
          "output_type": "execute_result"
        }
      ],
      "source": [
        "A=np.array([[0,1,1],[1,0,1]])\n",
        "B=np.array([[1,1],[1,1],[-1,1]])\n",
        "C=np.dot(A,B) #It corresponds to the matrix multiplication of array \"A\" and \"B\".\n",
        "C"
      ]
    },
    {
      "cell_type": "markdown",
      "metadata": {},
      "source": [
        "## Simple APIs \n",
        "\n",
        "An API lets two pieces of software talk to each other.\n",
        "You use the API to communicate with the API via inputs and outputs.\n"
      ]
    },
    {
      "cell_type": "code",
      "execution_count": 8,
      "metadata": {},
      "outputs": [
        {
          "ename": "ModuleNotFoundError",
          "evalue": "No module named 'pandas'",
          "output_type": "error",
          "traceback": [
            "\u001b[0;31m---------------------------------------------------------------------------\u001b[0m",
            "\u001b[0;31mModuleNotFoundError\u001b[0m                       Traceback (most recent call last)",
            "Cell \u001b[0;32mIn [8], line 1\u001b[0m\n\u001b[0;32m----> 1\u001b[0m \u001b[38;5;28;01mimport\u001b[39;00m \u001b[38;5;21;01mpandas\u001b[39;00m \u001b[38;5;28;01mas\u001b[39;00m \u001b[38;5;21;01mpd\u001b[39;00m\n\u001b[1;32m      3\u001b[0m dict_ \u001b[38;5;241m=\u001b[39m { \u001b[38;5;124m'\u001b[39m\u001b[38;5;124ma\u001b[39m\u001b[38;5;124m'\u001b[39m:[\u001b[38;5;241m11\u001b[39m,\u001b[38;5;241m21\u001b[39m,\u001b[38;5;241m31\u001b[39m], \u001b[38;5;124m'\u001b[39m\u001b[38;5;124mb\u001b[39m\u001b[38;5;124m'\u001b[39m:[\u001b[38;5;241m12\u001b[39m,\u001b[38;5;241m22\u001b[39m,\u001b[38;5;241m32\u001b[39m]}\n\u001b[1;32m      5\u001b[0m df \u001b[38;5;241m=\u001b[39m pd\u001b[38;5;241m.\u001b[39mDataFrame(dict_)\n",
            "\u001b[0;31mModuleNotFoundError\u001b[0m: No module named 'pandas'"
          ]
        }
      ],
      "source": [
        "import pandas as pd\n",
        "\n",
        "dict_ = { 'a':[11,21,31], 'b':[12,22,32]}\n",
        "\n",
        "df = pd.DataFrame(dict_)"
      ]
    },
    {
      "cell_type": "markdown",
      "metadata": {},
      "source": [
        "We use the pandas API to process the data by communicating with the other Software Components."
      ]
    },
    {
      "cell_type": "markdown",
      "metadata": {},
      "source": [
        "## REST APIs\n",
        "\n",
        "REST APIs are another popular type of API; they allow you to communicate through theinternet allowing you to take advantage of resources like storage, access more data, artificial intelligent algorithms, and much more.\n",
        "\n",
        "-   REST APIs are used to interact with web services, Applications that you call through the internet\n",
        "-   They have set of Rules regarding:\n",
        "    1.  Communication\n",
        "    2.  Input or Request\n",
        "    3.  Output or Response"
      ]
    },
    {
      "cell_type": "markdown",
      "metadata": {},
      "source": [
        "HTTP methods are a way of transmitting data over the internet.\n",
        "-   The HTTP message usually contains a JSON file. This contains instructions for what operation\n",
        "we would like the service to perform. "
      ]
    },
    {
      "cell_type": "markdown",
      "metadata": {},
      "source": [
        "An API key is a way to access the API. It’s a unique set of characters that the API uses to identify you and authorize you. Usually your first call to the API includes the API key. This will allow you access to the API."
      ]
    },
    {
      "cell_type": "code",
      "execution_count": 9,
      "metadata": {},
      "outputs": [
        {
          "ename": "ModuleNotFoundError",
          "evalue": "No module named 'ibm_watson'",
          "output_type": "error",
          "traceback": [
            "\u001b[0;31m---------------------------------------------------------------------------\u001b[0m",
            "\u001b[0;31mModuleNotFoundError\u001b[0m                       Traceback (most recent call last)",
            "Cell \u001b[0;32mIn [9], line 1\u001b[0m\n\u001b[0;32m----> 1\u001b[0m \u001b[38;5;28;01mfrom\u001b[39;00m \u001b[38;5;21;01mibm_watson\u001b[39;00m \u001b[38;5;28;01mimport\u001b[39;00m SpeechToTextV1\n\u001b[1;32m      3\u001b[0m url_s2t\u001b[38;5;241m=\u001b[39m\u001b[38;5;124m\"\u001b[39m\u001b[38;5;124mhttps://stream.watsonplatform.net/speech-to-text/api\u001b[39m\u001b[38;5;124m\"\u001b[39m\n",
            "\u001b[0;31mModuleNotFoundError\u001b[0m: No module named 'ibm_watson'"
          ]
        }
      ],
      "source": [
        "from ibm_watson import SpeechToTextV1\n",
        "\n",
        "url_s2t=\"https://stream.watsonplatform.net/speech-to-text/api\"\n",
        "\n",
        "iam_apikey_s2t=\"EOeiZxxxDxV2xxxxxxxxxxxxxxxxxjYen9SKARKW-\"\n",
        "\n",
        "s2t=SpeechToTextV1(iam_apikey=iam_apikey_s2t, url=url_s2t)\n",
        "\n",
        "filename = 'hello_this_is_python.wav'\n",
        "\n",
        "with open(filename,mode=\"rb\") as wav:\n",
        "    response = s2t.recognize(audio=wav,content_type='audio/wav')\n",
        "\n",
        "response.result\n",
        "\n"
      ]
    },
    {
      "cell_type": "code",
      "execution_count": null,
      "metadata": {},
      "outputs": [],
      "source": [
        "from ibm_watson import LanguageTranslatorV3\n",
        "\n",
        "url_lt='https://gateway.watsonplatform.net/language-translator/api'\n",
        "\n",
        "apikey_lt=\"dU2SaxxxxxxxxxxxxxasdfCuasdf\"\n",
        "\n",
        "version_lt='2018-05-01'\n",
        "\n",
        "language_translator = LanguageTranslatorV3(iam_apikey=apikey_lt, url=url_lt,version=version_lt)\n",
        "\n",
        "language_translator.list_identifiable_languages().get_result()"
      ]
    },
    {
      "cell_type": "code",
      "execution_count": null,
      "metadata": {},
      "outputs": [],
      "source": [
        "recognized_text='hello this is python'\n",
        "\n",
        "translation_response=language_translator.translate(text=recognized_text,model_id='en-es')\n",
        "\n",
        "translation = translation_response.get_result()\n",
        "\n",
        "spanish_translation = translation['translations'][0]['translation']"
      ]
    }
  ],
  "metadata": {
    "colab": {
      "include_colab_link": true,
      "name": "assignment01.ipynb",
      "provenance": []
    },
    "kernelspec": {
      "display_name": "Python 3.9.12 64-bit",
      "language": "python",
      "name": "python3"
    },
    "language_info": {
      "codemirror_mode": {
        "name": "ipython",
        "version": 3
      },
      "file_extension": ".py",
      "mimetype": "text/x-python",
      "name": "python",
      "nbconvert_exporter": "python",
      "pygments_lexer": "ipython3",
      "version": "3.9.12"
    },
    "vscode": {
      "interpreter": {
        "hash": "aee8b7b246df8f9039afb4144a1f6fd8d2ca17a180786b69acc140d282b71a49"
      }
    }
  },
  "nbformat": 4,
  "nbformat_minor": 0
}
