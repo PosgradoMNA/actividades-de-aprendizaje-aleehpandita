{
  "cells": [
    {
      "cell_type": "markdown",
      "metadata": {
        "colab_type": "text",
        "id": "view-in-github"
      },
      "source": [
        "<a href=\"https://colab.research.google.com/github/tec03/ParaAssignment01-/blob/main/assignment01.ipynb\" target=\"_parent\"><img src=\"https://colab.research.google.com/assets/colab-badge.svg\" alt=\"Open In Colab\"/></a>"
      ]
    },
    {
      "cell_type": "markdown",
      "metadata": {},
      "source": [
        "# Python for Data Science\n",
        "## Module 1 - Python Basics\n",
        "### First Program\n",
        "\n"
      ]
    },
    {
      "cell_type": "code",
      "execution_count": 1,
      "metadata": {
        "colab": {
          "base_uri": "https://localhost:8080/"
        },
        "id": "LzUSMM79NR9P",
        "outputId": "0e6cb421-1096-426a-b31a-f61d059def81"
      },
      "outputs": [
        {
          "name": "stdout",
          "output_type": "stream",
          "text": [
            "Hello Python 101\n"
          ]
        }
      ],
      "source": [
        "print('Hello Python 101')"
      ]
    },
    {
      "cell_type": "markdown",
      "metadata": {},
      "source": [
        "### Types\n",
        " Integer: it could be negative or positives\n",
        "\n",
        " Float: we can use decimals\n",
        " \n",
        " str \n",
        "\n",
        " boolean: True or False\n",
        "\n",
        " 1. We can see the type using type()\n",
        " 2. You can change the type of the expression in Python, this is called type casting. \n",
        " 3. If we cast a Boolean true to an integer or float, we will get a 1. \n",
        " 4. If we cast a Boolean false to an integer or float, we get a zero. \n",
        " 5. If you cast a 1 to a Boolean, you get a true.\n",
        " 6. Similarly, if you cast a 0 to a Boolean, you get a false.\n"
      ]
    },
    {
      "cell_type": "code",
      "execution_count": 4,
      "metadata": {
        "id": "mxM_WppZPMFx"
      },
      "outputs": [
        {
          "data": {
            "text/plain": [
              "False"
            ]
          },
          "execution_count": 4,
          "metadata": {},
          "output_type": "execute_result"
        }
      ],
      "source": [
        "float(2)\n",
        "int(1.1)\n",
        "str(1)\n",
        "int(True)\n",
        "bool(1)\n",
        "bool(0)\n"
      ]
    },
    {
      "cell_type": "markdown",
      "metadata": {},
      "source": [
        "### Expressions and Variables"
      ]
    },
    {
      "cell_type": "code",
      "execution_count": 9,
      "metadata": {},
      "outputs": [
        {
          "name": "stdout",
          "output_type": "stream",
          "text": [
            "20\n",
            "125\n",
            "5.0\n",
            "5\n",
            "150\n",
            "150\n",
            "1920\n"
          ]
        }
      ],
      "source": [
        "print (25-5)\n",
        "print (25*5)\n",
        "print (25/5)\n",
        "print(25//5)\n",
        "print(2*60+30)\n",
        "print(30+2*60)\n",
        "print((30+2)*60)"
      ]
    },
    {
      "cell_type": "markdown",
      "metadata": {},
      "source": [
        "### Variables\n",
        "We will use a colon do denote the value of the variable.\n",
        "We can assign a new value to my_variable using the assignment operator.\n",
        "We can store the results of expressions\n",
        "It's good practice to use meaningful variable names, so you don't have to keep track of what the variable is doing."
      ]
    },
    {
      "cell_type": "code",
      "execution_count": 15,
      "metadata": {},
      "outputs": [
        {
          "name": "stdout",
          "output_type": "stream",
          "text": [
            "160\n",
            "2.6666666666666665\n",
            "2.6666666666666665\n",
            "1.4166666666666667\n"
          ]
        }
      ],
      "source": [
        "x=(43+60+16+41)\n",
        "print (x)\n",
        "y=x/60\n",
        "print(y)\n",
        "x=x/60\n",
        "print(x)\n",
        "total_min = 43+42\n",
        "total_hr = total_min / 60\n",
        "print(total_hr)"
      ]
    },
    {
      "cell_type": "markdown",
      "metadata": {},
      "source": [
        "### String Operations\n",
        "\n",
        "1. A string is a sequence of characters. \n",
        "2. A string is contained within two quotes.\n",
        "3. You could also use single quotes. \n",
        "4. A string can be spaces, or digits.\n",
        "5. A string can also be special characters. \n",
        "5. We can bind or assign a string to another variable.\n",
        "6. We can think the string is an ordered sequence, each element in the sequence can be accessed using an index (array)\n",
        "7. We can also use negative indexing with strings\n",
        "8. We can treat the string as a sequence and perform sequence operations.\n",
        "9. We can also input a stride value as follows. The 2 indicates we select every second variable.\n",
        "10. We can also incorporate slicing.\n",
        "11. len command to obtain the length of the \n",
        "12. We can concatenate or combine strings. We use the addition symbols.\n",
        "13. We can replicate values of a string. We simply multiply the string by the number"
      ]
    },
    {
      "cell_type": "code",
      "execution_count": 50,
      "metadata": {},
      "outputs": [
        {
          "name": "stdout",
          "output_type": "stream",
          "text": [
            "Michael Jackson\n",
            "Michael Jackson\n",
            "1  2  3\n",
            "M\n",
            "i\n",
            "M\n",
            "Mich\n",
            "Jack\n",
            "McalJcsn\n",
            "Mca\n",
            "15\n",
            "Michael Jackson is the best\n",
            "Michael Jackson is the bestMichael Jackson is the bestMichael Jackson is the best\n",
            "Michael Jackson is the best\n",
            "06\n"
          ]
        }
      ],
      "source": [
        "print(\"Michael Jackson\")\n",
        "print('Michael Jackson')\n",
        "print(\"1  2  3\")\n",
        "name=\"Michael Jackson\"\n",
        "print(name[0])\n",
        "print(name[1])\n",
        "print(name[-15])\n",
        "print(name[0:4])\n",
        "print(name[8:12])\n",
        "print(name[::2])\n",
        "print(name[0:5:2])\n",
        "print(len(name))\n",
        "statement = name + \" is the best\"\n",
        "print(statement)\n",
        "print(3*statement)\n",
        "name = name + \" is the best\"\n",
        "print(name)\n",
        "Numbers = \"0123456\"\n",
        "print(Numbers[::6])"
      ]
    },
    {
      "cell_type": "markdown",
      "metadata": {},
      "source": [
        "14. Strings are immutable.\n",
        "15. Backslashes represent the beginning of escape sequences.\n",
        "16. backslashes \\n enter\n",
        "17. backslashes \\t \n",
        "18. If you want to place a backslash in your string, use a double backslash. "
      ]
    },
    {
      "cell_type": "code",
      "execution_count": 32,
      "metadata": {},
      "outputs": [
        {
          "name": "stdout",
          "output_type": "stream",
          "text": [
            "Michael Jackson \n",
            " is the best\n",
            "Michael Jackson \t is the best\n",
            "Michael Jackson \\ is the best\n"
          ]
        }
      ],
      "source": [
        "print(\"Michael Jackson \\n is the best\")\n",
        "print(\"Michael Jackson \\t is the best\")\n",
        "print(\"Michael Jackson \\\\ is the best\")"
      ]
    },
    {
      "cell_type": "markdown",
      "metadata": {},
      "source": [
        "### String Methods\n",
        "When we apply a method to the string \"A”, we get a new string “B\" that is different from \"A\".\n",
        "\n",
        "#### Method upper\n",
        "This method converts lower case characters to upper case characters.\n",
        "#### Method replace\n",
        "The method replaces a segment of the string, i.e., a substring with a new string.\n",
        "#### Method find\n",
        "Finds sub-strings. The argument is the sub-string you would like to find. The output is the first index of the sequence."
      ]
    },
    {
      "cell_type": "code",
      "execution_count": 52,
      "metadata": {},
      "outputs": [
        {
          "name": "stdout",
          "output_type": "stream",
          "text": [
            "THRILEER IS THE SIXTH STUDIO ALBUM\n",
            "Janet Jackson is the best\n",
            "Li\n"
          ]
        }
      ],
      "source": [
        "A= \"Thrileer is the sixth studio album\"\n",
        "print(A.upper())\n",
        "Name=\"Michael Jackson\"\n",
        "B=name.replace('Michael','Janet')\n",
        "print(B)\n",
        "Name.find('Jack')\n",
        "name='Lizz'\n",
        "print(name[0:2])\n"
      ]
    },
    {
      "cell_type": "code",
      "execution_count": 55,
      "metadata": {},
      "outputs": [
        {
          "name": "stdout",
          "output_type": "stream",
          "text": [
            "7\n",
            "0246\n",
            "12\n"
          ]
        }
      ],
      "source": [
        "print(3+2*2)\n",
        "var = '01234567'\n",
        "print(var[::2])\n",
        "print('1'+'2')"
      ]
    }
  ],
  "metadata": {
    "colab": {
      "include_colab_link": true,
      "name": "assignment01.ipynb",
      "provenance": []
    },
    "kernelspec": {
      "display_name": "Python 3.9.12 64-bit",
      "language": "python",
      "name": "python3"
    },
    "language_info": {
      "codemirror_mode": {
        "name": "ipython",
        "version": 3
      },
      "file_extension": ".py",
      "mimetype": "text/x-python",
      "name": "python",
      "nbconvert_exporter": "python",
      "pygments_lexer": "ipython3",
      "version": "3.9.12"
    },
    "vscode": {
      "interpreter": {
        "hash": "aee8b7b246df8f9039afb4144a1f6fd8d2ca17a180786b69acc140d282b71a49"
      }
    }
  },
  "nbformat": 4,
  "nbformat_minor": 0
}
