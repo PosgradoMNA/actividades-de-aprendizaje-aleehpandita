{
  "cells": [
    {
      "cell_type": "markdown",
      "metadata": {
        "colab_type": "text",
        "id": "view-in-github"
      },
      "source": [
        "<a href=\"https://colab.research.google.com/github/tec03/ParaAssignment01-/blob/main/assignment01.ipynb\" target=\"_parent\"><img src=\"https://colab.research.google.com/assets/colab-badge.svg\" alt=\"Open In Colab\"/></a>"
      ]
    },
    {
      "cell_type": "markdown",
      "metadata": {},
      "source": [
        "## Model Development\n",
        "\n"
      ]
    },
    {
      "cell_type": "markdown",
      "metadata": {},
      "source": [
        "### Simple and Multiple Linear Regression\n",
        "-   Model Evaluation using Visualization - Polynomial Regression and Pipelines\n",
        "-   R-squared and MSE for In-Sample Evaluation - Prediction and Decision Making"
      ]
    },
    {
      "cell_type": "markdown",
      "metadata": {},
      "source": [
        "### Linear and Multiple Linear Regression"
      ]
    },
    {
      "cell_type": "markdown",
      "metadata": {},
      "source": [
        "-   Linear Regression will refer to one independent variable to make a prediction.\n",
        "-   Multiple Linear Regression will refer to multiple independent variables to make a prediction.\n",
        "-   Simple Linear Regression (or SLR) is: A method to help us understand the relationship between two variables: The predictor (independent) variable x, and the target (dependent) variable y."
      ]
    },
    {
      "cell_type": "code",
      "execution_count": null,
      "metadata": {},
      "outputs": [],
      "source": [
        "from sklearn.linear_model import LinearRegression\n",
        "lm =  = LinearRegression()\n",
        "\n",
        "X = df[['highway-mpg']]"
      ]
    },
    {
      "cell_type": "markdown",
      "metadata": {},
      "source": [
        "#### Model Evaluation and Refinement\n",
        "\n",
        "-   Separating data into training and testing sets is an important part of model evaluation.\n",
        "-   We use the test data to get an idea how our model will perform in the real world.\n",
        "-   When we split a data set, usually the larger portion of data is used for training and a smaller part is used for testing.\n",
        "-   We use a training set to build a model and discover predictive relationships.\n",
        "-   We then use a testing set to evaluate model performance.\n",
        "-   When we have completed testing our model, we should use all the data to train the model.\n",
        "-   A popular function in the sci-kit learn package for splitting datasets is the \"train test split\" function.\n",
        "-   This function randomly splits a dataset into training and testing subsets"
      ]
    },
    {
      "cell_type": "markdown",
      "metadata": {},
      "source": [
        "#### Polynomial Regression and Pipelines"
      ]
    },
    {
      "cell_type": "markdown",
      "metadata": {},
      "source": [
        "-   We Transform our data into a polynomial, then use linear regression to fit the parameter.\n",
        "-   Pipelines are a way to simplify your code.\n",
        "-   Polynomial regression is a special case of the general linear regression.\n",
        "-   This method is beneficial for describing curvilinear relationships.\n",
        "\n",
        "#### What is a curvilinear relationship?\n",
        "-   It’s what you get by squaring or setting higher-order terms of the predictor variables in the model, transforming the data.\n",
        "-   The model can be quadratic, which means that the predictor variable in the model is squared.\n",
        "-   We use a bracket to indicate it is an exponent.\n",
        "-   This is a second order Polynomial regression with a figure representing the function.\n",
        "-   The model can be cubic, which means that the predictor variable is cubed."
      ]
    },
    {
      "cell_type": "code",
      "execution_count": null,
      "metadata": {},
      "outputs": [],
      "source": [
        "pr = PolynomialFeatures(degree=2)\n",
        "\n",
        "f = np.polyfit(x,y,3)\n",
        "\n",
        "p = np.polyfit(f)\n",
        "\n",
        "print(p)"
      ]
    },
    {
      "cell_type": "code",
      "execution_count": null,
      "metadata": {},
      "outputs": [],
      "source": [
        "from sklearn.preprocessing import StandardScaler\n",
        "\n",
        "SCALE =StandardScaler()\n",
        "SCALE.fit(x_data[['horsepower','highway-mpg']])\n",
        "\n",
        "x_scale=SCALE.transform(x_data[['horsepower','highway-mpg']])"
      ]
    },
    {
      "cell_type": "markdown",
      "metadata": {},
      "source": [
        "#### Measures for In-Sample Evaluation\n",
        "\n",
        "-   Two important measures that we often use to determine the fit of a model are: Mean Square Error (MSE), and R-squared.\n",
        "-   To measure the MSE, we find the difference between the actual value y and the predicted value yhat then square it."
      ]
    },
    {
      "cell_type": "markdown",
      "metadata": {},
      "source": [
        "-   To find the MSE in Python, we can import the “mean_Squared_error()” from “scikit-learn.metrics”.\n",
        "-   The “mean_Squared_error()” function gets two inputs: the actual value of target variable and the predicted value of target variable.\n"
      ]
    },
    {
      "cell_type": "code",
      "execution_count": null,
      "metadata": {},
      "outputs": [],
      "source": [
        "from scikit-learn.metrics import mean_Squared_error \n",
        "\n",
        "mean_squared_error(df['price'],Y_predict_simple_fit)"
      ]
    }
  ],
  "metadata": {
    "colab": {
      "include_colab_link": true,
      "name": "assignment01.ipynb",
      "provenance": []
    },
    "kernelspec": {
      "display_name": "Python 3.9.12 64-bit",
      "language": "python",
      "name": "python3"
    },
    "language_info": {
      "codemirror_mode": {
        "name": "ipython",
        "version": 3
      },
      "file_extension": ".py",
      "mimetype": "text/x-python",
      "name": "python",
      "nbconvert_exporter": "python",
      "pygments_lexer": "ipython3",
      "version": "3.9.12"
    },
    "vscode": {
      "interpreter": {
        "hash": "aee8b7b246df8f9039afb4144a1f6fd8d2ca17a180786b69acc140d282b71a49"
      }
    }
  },
  "nbformat": 4,
  "nbformat_minor": 0
}
